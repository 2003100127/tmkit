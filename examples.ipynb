{
 "cells": [
  {
   "cell_type": "code",
   "execution_count": 1,
   "metadata": {},
   "outputs": [],
   "source": [
    "import os\n",
    "import pandas as pd\n",
    "import tarfile\n",
    "import tmkit as tmk\n",
    "from typing import List, Tuple\n",
    "from tmkit.topo import from_pdbtm, from_tmhmm, from_phobius\n",
    "# from tests import dir_data, tmp_data, exp_data\n",
    "from tests import tmp_data"
   ]
  },
  {
   "cell_type": "markdown",
   "metadata": {},
   "source": [
    "# Example dataset\n",
    "\n",
    "We begin by introducing and downloading the following example dataset to use TMKit. Please see https://tmkit-guide.herokuapp.com/doc/exdataset"
   ]
  },
  {
   "cell_type": "code",
   "execution_count": 2,
   "metadata": {},
   "outputs": [
    {
     "name": "stdout",
     "output_type": "stream",
     "text": [
      "===>Dowloading TMKit example dataset...\n",
      "===>Dowloaded!\n"
     ]
    }
   ],
   "source": [
    "tmk.fetch.tmkit_data(\n",
    "    url='https://sandbox.zenodo.org/record/1219139/files/data.zip?download=1',\n",
    "    sv_fpn= os.path.join(tmp_data, 'data.zip')\n",
    ")"
   ]
  },
  {
   "cell_type": "code",
   "execution_count": 3,
   "metadata": {},
   "outputs": [
    {
     "name": "stdout",
     "output_type": "stream",
     "text": [
      "===>Decompressing TMKit example dataset...\n"
     ]
    },
    {
     "name": "stdout",
     "output_type": "stream",
     "text": [
      "===>Decompressed!\n"
     ]
    }
   ],
   "source": [
    "# unzip\n",
    "tmk.fetch.unzip(\n",
    "    in_fpn= os.path.join(tmp_data, 'data.zip'),\n",
    "    out_fp= tmp_data\n",
    ")"
   ]
  },
  {
   "cell_type": "markdown",
   "metadata": {},
   "source": [
    "# Sequence\n",
    "\n",
    "## Retrieve\n",
    "\n",
    "### RCSB PDB file"
   ]
  },
  {
   "cell_type": "code",
   "execution_count": 4,
   "metadata": {},
   "outputs": [
    {
     "name": "stdout",
     "output_type": "stream",
     "text": [
      "===>No.1 protein name: 6e3y\n",
      "Downloading PDB structure '6e3y'...\n",
      "===>No.2 protein name: 1xqf\n",
      "Downloading PDB structure '1xqf'...\n"
     ]
    },
    {
     "data": {
      "text/plain": [
       "'Finished'"
      ]
     },
     "execution_count": 4,
     "metadata": {},
     "output_type": "execute_result"
    }
   ],
   "source": [
    "dpath = os.path.join(tmp_data, 'pdb/')\n",
    "os.makedirs(dpath, exist_ok=True)\n",
    "\n",
    "prot_series = pd.Series([\"6e3y\", \"1xqf\"])\n",
    "\n",
    "tmk.seq.retrieve_pdb_from_rcsb(\n",
    "    prot_series=prot_series,\n",
    "    sv_fp= dpath,\n",
    ")"
   ]
  },
  {
   "cell_type": "markdown",
   "metadata": {},
   "source": [
    "### PDBTM PDB file"
   ]
  },
  {
   "cell_type": "code",
   "execution_count": 5,
   "metadata": {},
   "outputs": [
    {
     "name": "stdout",
     "output_type": "stream",
     "text": [
      "===>No.1 protein name: 6e3y\n",
      "===>No.2 protein name: 1xqf\n"
     ]
    },
    {
     "data": {
      "text/plain": [
       "'Finished'"
      ]
     },
     "execution_count": 5,
     "metadata": {},
     "output_type": "execute_result"
    }
   ],
   "source": [
    "dpath = os.path.join(tmp_data, 'pdb/pdbtm/')\n",
    "os.makedirs(dpath, exist_ok=True)\n",
    "\n",
    "tmk.seq.retrieve_pdb_from_pdbtm(\n",
    "    prot_series=prot_series,\n",
    "    sv_fp = dpath,\n",
    ")"
   ]
  },
  {
   "cell_type": "markdown",
   "metadata": {},
   "source": [
    "### PDBTM XML file"
   ]
  },
  {
   "cell_type": "code",
   "execution_count": 6,
   "metadata": {},
   "outputs": [
    {
     "name": "stdout",
     "output_type": "stream",
     "text": [
      "===>No.0 protein name: 6e3y\n",
      "===>No.1 protein name: 1xqf\n"
     ]
    },
    {
     "data": {
      "text/plain": [
       "'Finished'"
      ]
     },
     "execution_count": 6,
     "metadata": {},
     "output_type": "execute_result"
    }
   ],
   "source": [
    "dpath = os.path.join(tmp_data, 'pdb/xml/')\n",
    "os.makedirs(dpath, exist_ok=True)\n",
    "\n",
    "tmk.seq.retrieve_xml_from_pdbtm(\n",
    "    prot_series=prot_series,\n",
    "    sv_fp=dpath,\n",
    ")"
   ]
  },
  {
   "cell_type": "markdown",
   "metadata": {},
   "source": [
    "### AlphaFold PDB file\n",
    "\n",
    "#### Download some predicted transmembrane protein structures"
   ]
  },
  {
   "cell_type": "code",
   "execution_count": 7,
   "metadata": {},
   "outputs": [
    {
     "data": {
      "text/plain": [
       "'Finished'"
      ]
     },
     "execution_count": 7,
     "metadata": {},
     "output_type": "execute_result"
    }
   ],
   "source": [
    "dpath = os.path.join(tmp_data, 'pdb/alphafold/')\n",
    "os.makedirs(dpath, exist_ok=True)\n",
    "\n",
    "prot_series = pd.Series(['P63092', 'Q9B6E8', 'P07256', 'P63027'])\n",
    "\n",
    "tmk.seq.retrieve_pdb_alphafold(\n",
    "    prot_series=prot_series,\n",
    "    sv_fp=dpath,\n",
    ")"
   ]
  },
  {
   "cell_type": "markdown",
   "metadata": {},
   "source": [
    "#### Using Foldseek for structural alignment of the predicted transmembrane protein structures"
   ]
  },
  {
   "cell_type": "code",
   "execution_count": 10,
   "metadata": {},
   "outputs": [
    {
     "ename": "FileNotFoundError",
     "evalue": "[Errno 2] No such file or directory: '/workspace/tmp/data/pdb/P63027.pdb'",
     "output_type": "error",
     "traceback": [
      "\u001b[0;31m---------------------------------------------------------------------------\u001b[0m",
      "\u001b[0;31mFileNotFoundError\u001b[0m                         Traceback (most recent call last)",
      "Cell \u001b[0;32mIn[10], line 1\u001b[0m\n\u001b[0;32m----> 1\u001b[0m tmk\u001b[39m.\u001b[39;49mseq\u001b[39m.\u001b[39;49mretrieve_foldseek(\n\u001b[1;32m      2\u001b[0m     pdb_fp\u001b[39m=\u001b[39;49m os\u001b[39m.\u001b[39;49mpath\u001b[39m.\u001b[39;49mjoin(tmp_data, \u001b[39m'\u001b[39;49m\u001b[39mdata/pdb/\u001b[39;49m\u001b[39m'\u001b[39;49m),\n\u001b[1;32m      3\u001b[0m     prot_name\u001b[39m=\u001b[39;49m\u001b[39m'\u001b[39;49m\u001b[39mP63027\u001b[39;49m\u001b[39m'\u001b[39;49m, \u001b[39m# https://alphafold.ebi.ac.uk/entry/P63027\u001b[39;49;00m\n\u001b[1;32m      4\u001b[0m     sv_fp\u001b[39m=\u001b[39;49m os\u001b[39m.\u001b[39;49mpath\u001b[39m.\u001b[39;49mjoin(tmp_data, \u001b[39m'\u001b[39;49m\u001b[39mdata/\u001b[39;49m\u001b[39m'\u001b[39;49m),\n\u001b[1;32m      5\u001b[0m )\n",
      "File \u001b[0;32m/workspace/tmkit/seq.py:151\u001b[0m, in \u001b[0;36mretrieve_foldseek\u001b[0;34m(pdb_fp, prot_name, sv_fp, file_chain)\u001b[0m\n\u001b[1;32m    125\u001b[0m \u001b[39mdef\u001b[39;00m \u001b[39mretrieve_foldseek\u001b[39m(\n\u001b[1;32m    126\u001b[0m     pdb_fp: \u001b[39mstr\u001b[39m,\n\u001b[1;32m    127\u001b[0m     prot_name: \u001b[39mstr\u001b[39m,\n\u001b[1;32m    128\u001b[0m     sv_fp: \u001b[39mstr\u001b[39m,\n\u001b[1;32m    129\u001b[0m     file_chain: \u001b[39mstr\u001b[39m \u001b[39m=\u001b[39m \u001b[39m\"\u001b[39m\u001b[39m\"\u001b[39m,\n\u001b[1;32m    130\u001b[0m ) \u001b[39m-\u001b[39m\u001b[39m>\u001b[39m \u001b[39mstr\u001b[39m:\n\u001b[1;32m    131\u001b[0m \u001b[39m    \u001b[39m\u001b[39m\"\"\"\u001b[39;00m\n\u001b[1;32m    132\u001b[0m \u001b[39m    Retrieve a FoldSeek file (*.gz) from PDB. See how to to use the compressed file\u001b[39;00m\n\u001b[1;32m    133\u001b[0m \u001b[39m    at http://localhost:8088/tmkit-guide/public/doc/msa/foldseek.\u001b[39;00m\n\u001b[0;32m   (...)\u001b[0m\n\u001b[1;32m    149\u001b[0m \u001b[39m        'Finished' if a PDB file is successfully retrieved.\u001b[39;00m\n\u001b[1;32m    150\u001b[0m \u001b[39m    \"\"\"\u001b[39;00m\n\u001b[0;32m--> 151\u001b[0m     \u001b[39mreturn\u001b[39;00m stpdb(\n\u001b[1;32m    152\u001b[0m         pdb_fp\u001b[39m=\u001b[39;49mpdb_fp,\n\u001b[1;32m    153\u001b[0m         prot_name\u001b[39m=\u001b[39;49mprot_name,\n\u001b[1;32m    154\u001b[0m         file_chain\u001b[39m=\u001b[39;49mfile_chain,\n\u001b[1;32m    155\u001b[0m     )\u001b[39m.\u001b[39msearch_foldseek(\n\u001b[1;32m    156\u001b[0m         sv_fp\u001b[39m=\u001b[39msv_fp,\n\u001b[1;32m    157\u001b[0m     )\n",
      "File \u001b[0;32m/workspace/tmkit/structure/PDB.py:42\u001b[0m, in \u001b[0;36mPDB.__init__\u001b[0;34m(self, pdb_fp, prot_name, seq_chain, file_chain)\u001b[0m\n\u001b[1;32m     23\u001b[0m \u001b[39mdef\u001b[39;00m \u001b[39m__init__\u001b[39m(\n\u001b[1;32m     24\u001b[0m     \u001b[39mself\u001b[39m,\n\u001b[1;32m     25\u001b[0m     pdb_fp: \u001b[39mstr\u001b[39m,\n\u001b[0;32m   (...)\u001b[0m\n\u001b[1;32m     28\u001b[0m     file_chain: Optional[\u001b[39mstr\u001b[39m] \u001b[39m=\u001b[39m \u001b[39mNone\u001b[39;00m,\n\u001b[1;32m     29\u001b[0m ) \u001b[39m-\u001b[39m\u001b[39m>\u001b[39m \u001b[39mNone\u001b[39;00m:\n\u001b[1;32m     30\u001b[0m \u001b[39m    \u001b[39m\u001b[39m\"\"\"\u001b[39;00m\n\u001b[1;32m     31\u001b[0m \u001b[39m    Parameters\u001b[39;00m\n\u001b[1;32m     32\u001b[0m \u001b[39m    ----------\u001b[39;00m\n\u001b[0;32m   (...)\u001b[0m\n\u001b[1;32m     40\u001b[0m \u001b[39m        The chain of the PDB file, by default None.\u001b[39;00m\n\u001b[1;32m     41\u001b[0m \u001b[39m    \"\"\"\u001b[39;00m\n\u001b[0;32m---> 42\u001b[0m     \u001b[39msuper\u001b[39;49m()\u001b[39m.\u001b[39;49m\u001b[39m__init__\u001b[39;49m(pdb_fp, prot_name, seq_chain, file_chain)\n",
      "File \u001b[0;32m/workspace/tmkit/base/PDB.py:141\u001b[0m, in \u001b[0;36mStructure.__init__\u001b[0;34m(self, pdb_fp, prot_name, seq_chain, file_chain)\u001b[0m\n\u001b[1;32m    138\u001b[0m \u001b[39mself\u001b[39m\u001b[39m.\u001b[39mpdb_fpn \u001b[39m=\u001b[39m \u001b[39mself\u001b[39m\u001b[39m.\u001b[39mpdb_fp \u001b[39m+\u001b[39m \u001b[39mself\u001b[39m\u001b[39m.\u001b[39mprot_name \u001b[39m+\u001b[39m \u001b[39mself\u001b[39m\u001b[39m.\u001b[39mfile_chain \u001b[39m+\u001b[39m \u001b[39m\"\u001b[39m\u001b[39m.pdb\u001b[39m\u001b[39m\"\u001b[39m\n\u001b[1;32m    140\u001b[0m \u001b[39mself\u001b[39m\u001b[39m.\u001b[39mbio_parser \u001b[39m=\u001b[39m PDBParser()\n\u001b[0;32m--> 141\u001b[0m \u001b[39mself\u001b[39m\u001b[39m.\u001b[39mstructure \u001b[39m=\u001b[39m \u001b[39mself\u001b[39;49m\u001b[39m.\u001b[39;49mbio_parser\u001b[39m.\u001b[39;49mget_structure(\u001b[39mself\u001b[39;49m\u001b[39m.\u001b[39;49mprot_name, \u001b[39mself\u001b[39;49m\u001b[39m.\u001b[39;49mpdb_fpn)\n\u001b[1;32m    142\u001b[0m \u001b[39mself\u001b[39m\u001b[39m.\u001b[39mmodel \u001b[39m=\u001b[39m \u001b[39mself\u001b[39m\u001b[39m.\u001b[39mstructure[\u001b[39m0\u001b[39m]\n\u001b[1;32m    143\u001b[0m \u001b[39mif\u001b[39;00m \u001b[39mself\u001b[39m\u001b[39m.\u001b[39mseq_chain \u001b[39m!=\u001b[39m \u001b[39m\"\u001b[39m\u001b[39m\"\u001b[39m:\n",
      "File \u001b[0;32m/workspace/.venv/lib/python3.10/site-packages/Bio/PDB/PDBParser.py:96\u001b[0m, in \u001b[0;36mPDBParser.get_structure\u001b[0;34m(self, id, file)\u001b[0m\n\u001b[1;32m     93\u001b[0m \u001b[39m# Make a StructureBuilder instance (pass id of structure as parameter)\u001b[39;00m\n\u001b[1;32m     94\u001b[0m \u001b[39mself\u001b[39m\u001b[39m.\u001b[39mstructure_builder\u001b[39m.\u001b[39minit_structure(\u001b[39mid\u001b[39m)\n\u001b[0;32m---> 96\u001b[0m \u001b[39mwith\u001b[39;00m as_handle(file) \u001b[39mas\u001b[39;00m handle:\n\u001b[1;32m     97\u001b[0m     lines \u001b[39m=\u001b[39m handle\u001b[39m.\u001b[39mreadlines()\n\u001b[1;32m     98\u001b[0m     \u001b[39mif\u001b[39;00m \u001b[39mnot\u001b[39;00m lines:\n",
      "File \u001b[0;32m/usr/lib/python3.10/contextlib.py:135\u001b[0m, in \u001b[0;36m_GeneratorContextManager.__enter__\u001b[0;34m(self)\u001b[0m\n\u001b[1;32m    133\u001b[0m \u001b[39mdel\u001b[39;00m \u001b[39mself\u001b[39m\u001b[39m.\u001b[39margs, \u001b[39mself\u001b[39m\u001b[39m.\u001b[39mkwds, \u001b[39mself\u001b[39m\u001b[39m.\u001b[39mfunc\n\u001b[1;32m    134\u001b[0m \u001b[39mtry\u001b[39;00m:\n\u001b[0;32m--> 135\u001b[0m     \u001b[39mreturn\u001b[39;00m \u001b[39mnext\u001b[39;49m(\u001b[39mself\u001b[39;49m\u001b[39m.\u001b[39;49mgen)\n\u001b[1;32m    136\u001b[0m \u001b[39mexcept\u001b[39;00m \u001b[39mStopIteration\u001b[39;00m:\n\u001b[1;32m    137\u001b[0m     \u001b[39mraise\u001b[39;00m \u001b[39mRuntimeError\u001b[39;00m(\u001b[39m\"\u001b[39m\u001b[39mgenerator didn\u001b[39m\u001b[39m'\u001b[39m\u001b[39mt yield\u001b[39m\u001b[39m\"\u001b[39m) \u001b[39mfrom\u001b[39;00m \u001b[39mNone\u001b[39;00m\n",
      "File \u001b[0;32m/workspace/.venv/lib/python3.10/site-packages/Bio/File.py:72\u001b[0m, in \u001b[0;36mas_handle\u001b[0;34m(handleish, mode, **kwargs)\u001b[0m\n\u001b[1;32m     30\u001b[0m \u001b[39m\u001b[39m\u001b[39mr\u001b[39m\u001b[39m\"\"\"Context manager to ensure we are using a handle.\u001b[39;00m\n\u001b[1;32m     31\u001b[0m \n\u001b[1;32m     32\u001b[0m \u001b[39mContext manager for arguments that can be passed to SeqIO and AlignIO read, write,\u001b[39;00m\n\u001b[0;32m   (...)\u001b[0m\n\u001b[1;32m     69\u001b[0m \n\u001b[1;32m     70\u001b[0m \u001b[39m\"\"\"\u001b[39;00m\n\u001b[1;32m     71\u001b[0m \u001b[39mtry\u001b[39;00m:\n\u001b[0;32m---> 72\u001b[0m     \u001b[39mwith\u001b[39;00m \u001b[39mopen\u001b[39;49m(handleish, mode, \u001b[39m*\u001b[39;49m\u001b[39m*\u001b[39;49mkwargs) \u001b[39mas\u001b[39;00m fp:\n\u001b[1;32m     73\u001b[0m         \u001b[39myield\u001b[39;00m fp\n\u001b[1;32m     74\u001b[0m \u001b[39mexcept\u001b[39;00m \u001b[39mTypeError\u001b[39;00m:\n",
      "\u001b[0;31mFileNotFoundError\u001b[0m: [Errno 2] No such file or directory: '/workspace/tmp/data/pdb/P63027.pdb'"
     ]
    }
   ],
   "source": [
    "tmk.seq.retrieve_foldseek(\n",
    "    pdb_fp= os.path.join(tmp_data, 'data/pdb/'),\n",
    "    prot_name='P63027', # https://alphafold.ebi.ac.uk/entry/P63027\n",
    "    sv_fp= os.path.join(tmp_data, 'data/'),\n",
    ")"
   ]
  },
  {
   "cell_type": "code",
   "execution_count": null,
   "metadata": {},
   "outputs": [],
   "source": [
    "# unzip the results\n",
    "\n",
    "\n",
    "fin = os.path.join(tmp_data, \"data/P63027_foldseek_result.gz\")\n",
    "with tarfile.open(fin, \"r\") as tar:\n",
    "    csv_path = tar.getnames()[0]\n",
    "    for i in tar.getnames():\n",
    "        print(tar.extractfile(i))\n",
    "        df = pd.read_csv(tar.extractfile(i), header=None, sep=\"\\t\")\n",
    "        print(df)"
   ]
  },
  {
   "cell_type": "markdown",
   "metadata": {},
   "source": [
    "## Read"
   ]
  },
  {
   "cell_type": "code",
   "execution_count": null,
   "metadata": {},
   "outputs": [],
   "source": [
    "# Sequence from a Fasta file\n",
    "\n",
    "fin = os.path.join(dir_data, \"1xqfA.fasta\")\n",
    "\n",
    "sequence = tmk.seq.read_from_fasta(fasta_fpn=fin)\n",
    "sequence\n",
    "\n",
    "# Get residue IDs from a FASTA file\n",
    "seq_fasta_ids = tmk.seq.fasid(fasta_fpn=fin)\n"
   ]
  },
  {
   "cell_type": "code",
   "execution_count": null,
   "metadata": {},
   "outputs": [
    {
     "data": {
      "text/plain": [
       "'AVADKADNAFMMICTALVLFMTIPGIALFYGGLIRGKNVLSMLTQVTVTFALVCILWVVYGYSLAFGEGNNFFGNINWLMLKNIELTAVMGSIYQYIHVAFQGSFACITVGLIVGALAERIRFSAVLIFVVVWLTLSYIPIAHMVWGGGLLASHGALDFAGGTVVHINAAIAGLVGAYLPHNLPMVFTGTAILYIGWFGFNAGSAGTANEIAALAFVNTVVATAAAILGWIFGEWALRGKPSLLGACSGAIAGLVGVTPACGYIGVGGALIIGVVAGLAGLWGVTMPCDVFGVHGVCGIVGCIMTGIFAASSLGGVGFAEGVTMGHQLLVQLESIAITIVWSGVVAFIGYKLADLTVGLRVP'"
      ]
     },
     "execution_count": 41,
     "metadata": {},
     "output_type": "execute_result"
    }
   ],
   "source": [
    "# Sequence from a PDB file\n",
    "\n",
    "fin = os.path.join(tmp_data, \"pdb/1xqf.pdb\")\n",
    "\n",
    "sequence = tmk.seq.read_from_pdb(\n",
    "    pdb_fp=dir_data,\n",
    "    prot_name='1xqf',\n",
    "    seq_chain='A',\n",
    "    file_chain='A',\n",
    ")\n",
    "\n",
    "sequence"
   ]
  },
  {
   "cell_type": "code",
   "execution_count": null,
   "metadata": {},
   "outputs": [],
   "source": [
    "# TODO: bug in the function\n",
    "# Sequence from an XML file\n",
    "sequence = tmk.seq.read_from_xml(\n",
    "    xml_fp=os.path.join(tmp_data, 'pdb/xml/'),\n",
    "    xml_name='1xqf',\n",
    "    seq_chain='A',\n",
    ")"
   ]
  },
  {
   "cell_type": "markdown",
   "metadata": {},
   "source": [
    "# Protein topology\n",
    "\n",
    "## From PDBTM"
   ]
  },
  {
   "cell_type": "code",
   "execution_count": null,
   "metadata": {},
   "outputs": [
    {
     "name": "stdout",
     "output_type": "stream",
     "text": [
      "Topology: Side1\n",
      "It does not has this topology.\n",
      "\n",
      "Topology: Side2\n",
      "It does not has this topology.\n",
      "\n",
      "Topology: Beta\n",
      "It does not has this topology.\n",
      "\n",
      "Topology: Alpha\n",
      "---lower bounds [15, 46, 102, 127, 161, 202, 231, 261, 282, 314, 353]\n",
      "---upper bounds [32, 64, 118, 147, 178, 219, 248, 276, 299, 332, 377]\n",
      "It does not has this topology.\n",
      "\n",
      "Topology: Coil\n",
      "It does not has this topology.\n",
      "\n",
      "Topology: Membrane-inside\n",
      "It does not has this topology.\n",
      "\n",
      "Topology: Membrane-loop\n",
      "It does not has this topology.\n",
      "\n",
      "Topology: Interfacial \n",
      "It does not has this topology.\n",
      "\n",
      "Topology: Unknown\n",
      "---lower bounds [1, 3, 15, 33, 46, 65, 102, 119, 127, 148, 161, 179, 182, 195, 202, 220, 231, 249, 261, 277, 282, 300, 302, 311, 314, 333, 353, 378, 387]\n",
      "---upper bounds [2, 14, 32, 45, 64, 101, 118, 126, 147, 160, 178, 181, 194, 201, 219, 230, 248, 260, 276, 281, 299, 301, 310, 313, 332, 352, 377, 386, 418]\n",
      "It does not has this topology.\n",
      "\n"
     ]
    }
   ],
   "source": [
    "topos = {\n",
    "    'Side1': 'side1',\n",
    "    'Side2': 'side2',\n",
    "    'Beta': 'strand',\n",
    "    'Alpha': 'tmh',\n",
    "    'Coil': 'coil',\n",
    "    'Membrane-inside': 'inside',\n",
    "    'Membrane-loop': 'loop',\n",
    "    'Interfacial ': 'interfacial',\n",
    "    'Unknown': 'Unknown',\n",
    "}\n",
    "\n",
    "\n",
    "for topo, i in topos.items():\n",
    "    print('Topology: {}'.format(topo))\n",
    "    try:\n",
    "        lower_ids, upper_ids = tmk.topo.from_pdbtm(\n",
    "            xml_fp=os.path.join(tmp_data, 'data/xml/'),\n",
    "            prot_name='1xqf',\n",
    "            seq_chain='A',\n",
    "            topo=i,\n",
    "        )\n",
    "        if lower_ids:\n",
    "            print('---lower bounds', lower_ids)\n",
    "            print('---upper bounds', upper_ids)\n",
    "    except:\n",
    "        continue\n",
    "    else:\n",
    "        print('It does not has this topology.\\n')"
   ]
  },
  {
   "cell_type": "markdown",
   "metadata": {},
   "source": [
    "## From Phobius"
   ]
  },
  {
   "cell_type": "code",
   "execution_count": null,
   "metadata": {},
   "outputs": [
    {
     "name": "stdout",
     "output_type": "stream",
     "text": [
      "---lower bounds [6, 42, 96, 125, 159, 186, 211, 243, 266, 291, 328]\n",
      "---upper bounds [30, 62, 118, 147, 179, 205, 231, 260, 284, 316, 350]\n"
     ]
    }
   ],
   "source": [
    "lower_ids, upper_ids = tmk.topo.from_phobius(\n",
    "    topo='tmh',\n",
    "    phobius_fpn=os.path.join(tmp_data, 'data/topo/1xqfA.jphobius'),\n",
    ")\n",
    "print('---lower bounds', lower_ids)\n",
    "print('---upper bounds', upper_ids)"
   ]
  },
  {
   "cell_type": "markdown",
   "metadata": {},
   "source": [
    "## Cytoplasmic or extracellular segments"
   ]
  },
  {
   "cell_type": "code",
   "execution_count": null,
   "metadata": {},
   "outputs": [
    {
     "name": "stdout",
     "output_type": "stream",
     "text": [
      "=========>Segment lower pdb id: [  1   3  33  65 119 148 179 182 195 220 249 277 300 302 311 333 378 387]\n",
      "=========>Segment upper pdb id: [  2  14  45 101 126 160 181 194 201 230 260 281 301 310 313 352 386 418]\n",
      "=========>Segment lower fasta id: [1, 31, 63, 117, 146, 177, 180, 205, 234, 262, 285, 287, 309, 354]\n",
      "=========>Segment upper fasta id: [12, 43, 99, 124, 158, 179, 186, 215, 245, 266, 286, 289, 328, 362]\n",
      "=========>Segment lower pdb id: [ 15  46 102 127 161 202 231 261 282 314 353]\n",
      "=========>Segment upper pdb id: [ 32  64 118 147 178 219 248 276 299 332 377]\n",
      "=========>Segment lower fasta id: [13, 44, 100, 125, 159, 187, 216, 246, 267, 290, 329]\n",
      "=========>Segment upper fasta id: [30, 62, 116, 145, 176, 204, 233, 261, 284, 308, 353]\n",
      "---Cytoplasmic and extracellular segments that are structure-derived :\n",
      " {'tmh_lower': [13, 44, 100, 125, 159, 187, 216, 246, 267, 290, 329], 'tmh_upper': [30, 62, 116, 145, 176, 204, 233, 261, 284, 308, 353], 'cyto_lower': [31, 117, 177, 180, 234, 285, 287, 354], 'cyto_upper': [43, 124, 179, 186, 245, 286, 289, 362], 'extra_lower': [1, 63, 146, 205, 262, 309], 'extra_upper': [12, 99, 158, 215, 266, 328]}\n",
      "---Cytoplasmic and extracellular segments Predicted by the Phobius tool: \n",
      " {'cyto_lower': [31, 119, 180, 232, 285, 351], 'cyto_upper': [41, 124, 185, 242, 290, 362], 'tmh_lower': [6, 42, 96, 125, 159, 186, 211, 243, 266, 291, 328], 'tmh_upper': [30, 62, 118, 147, 179, 205, 231, 260, 284, 316, 350], 'extra_lower': [1, 63, 148, 206, 261, 317], 'extra_upper': [5, 95, 158, 210, 265, 327], 'signal_lower': [], 'signal_upper': [], 'cregion_lower': [], 'cregion_upper': [], 'hregion_lower': [], 'hregion_upper': [], 'nregion_lower': [], 'nregion_upper': []}\n"
     ]
    },
    {
     "name": "stderr",
     "output_type": "stream",
     "text": [
      "/workspace/.venv/lib/python3.10/site-packages/Bio/PDB/Polypeptide.py:144: BiopythonDeprecationWarning: 'three_to_one' will be deprecated in a future release of Biopython in favor of 'Bio.PDB.Polypeptide.protein_letters_3to1'.\n",
      "  warnings.warn(\n"
     ]
    }
   ],
   "source": [
    "pdbtm_seg, pred_seg = tmk.topo.cepdbtm(\n",
    "  pdb_fp = os.path.join(tmp_data, 'data/pdb/'),\n",
    "    prot_name='1xqf',\n",
    "    seq_chain='A',\n",
    "    file_chain='A',\n",
    "    topo_fp= os.path.join(tmp_data, 'data/topo/1xqfA.jphobius'),\n",
    "    xml_fp = os.path.join(tmp_data, 'data/xml/'),\n",
    "    fasta_fp = os.path.join(tmp_data, 'data/fasta/'),\n",
    ")\n",
    "print('---Cytoplasmic and extracellular segments that are structure-derived :\\n', pdbtm_seg)\n",
    "print('---Cytoplasmic and extracellular segments Predicted by the Phobius tool: \\n', pred_seg)"
   ]
  },
  {
   "cell_type": "markdown",
   "metadata": {},
   "source": [
    "# Feature\n",
    "\n",
    "## Helix surface identification"
   ]
  },
  {
   "cell_type": "code",
   "execution_count": null,
   "metadata": {},
   "outputs": [],
   "source": [
    "# fdir = os.path.join(dir_data, \"lips-\")\n",
    "\n",
    "# df = tmk.feature.read_helix_surf(\n",
    "#     fp=fdir,\n",
    "#     prot_name='1xqf',\n",
    "#     file_chain='A',\n",
    "#     id=1,\n",
    "# )\n",
    "\n",
    "\n",
    "# aa_surf_rank, _, _, _ = tmk.feature.read(\n",
    "#     fp=fdir,\n",
    "#     prot_name='1xqf',\n",
    "#     file_chain='A',\n",
    "# )\n",
    "\n",
    "# df = tmk.feature.read_helix_all_surf(\n",
    "#     fp=fdir,\n",
    "#     prot_name='1xqf',\n",
    "#     file_chain='A',\n",
    "# )\n",
    "\n",
    "# df"
   ]
  },
  {
   "cell_type": "code",
   "execution_count": null,
   "metadata": {},
   "outputs": [
    {
     "ename": "KeyboardInterrupt",
     "evalue": "",
     "output_type": "error",
     "traceback": [
      "\u001b[0;31m---------------------------------------------------------------------------\u001b[0m",
      "\u001b[0;31mKeyboardInterrupt\u001b[0m                         Traceback (most recent call last)",
      "Cell \u001b[0;32mIn[8], line 10\u001b[0m\n\u001b[1;32m      1\u001b[0m \u001b[39m# fdir = os.path.join(dir_data, \"lips-\")\u001b[39;00m\n\u001b[1;32m      2\u001b[0m \n\u001b[1;32m      3\u001b[0m \u001b[39m# df = tmk.feature.read_helix_surf(\u001b[39;00m\n\u001b[0;32m   (...)\u001b[0m\n\u001b[1;32m      7\u001b[0m \u001b[39m#     id=1,\u001b[39;00m\n\u001b[1;32m      8\u001b[0m \u001b[39m# )\u001b[39;00m\n\u001b[0;32m---> 10\u001b[0m tmk\u001b[39m.\u001b[39;49mfeature\u001b[39m.\u001b[39;49mgenerate_helix_surfaces(\n\u001b[1;32m     11\u001b[0m   msa_path \u001b[39m=\u001b[39;49m os\u001b[39m.\u001b[39;49mpath\u001b[39m.\u001b[39;49mjoin(tmp_data, \u001b[39m'\u001b[39;49m\u001b[39mdata/msa/\u001b[39;49m\u001b[39m'\u001b[39;49m),\n\u001b[1;32m     12\u001b[0m     prot_name\u001b[39m=\u001b[39;49m\u001b[39m'\u001b[39;49m\u001b[39m1xqf\u001b[39;49m\u001b[39m'\u001b[39;49m,\n\u001b[1;32m     13\u001b[0m     file_chain\u001b[39m=\u001b[39;49m\u001b[39m'\u001b[39;49m\u001b[39mA\u001b[39;49m\u001b[39m'\u001b[39;49m,\n\u001b[1;32m     14\u001b[0m     sv_fp \u001b[39m=\u001b[39;49m os\u001b[39m.\u001b[39;49mpath\u001b[39m.\u001b[39;49mjoin(tmp_data, \u001b[39m'\u001b[39;49m\u001b[39mdata/lips/\u001b[39;49m\u001b[39m'\u001b[39;49m),\n\u001b[1;32m     15\u001b[0m )\n",
      "File \u001b[0;32m/workspace/tmkit/feature.py:46\u001b[0m, in \u001b[0;36mgenerate_helix_surfaces\u001b[0;34m(msa_path, prot_name, file_chain, sv_fp)\u001b[0m\n\u001b[1;32m     16\u001b[0m \u001b[39mdef\u001b[39;00m \u001b[39mgenerate_helix_surfaces\u001b[39m(\n\u001b[1;32m     17\u001b[0m     msa_path: \u001b[39mstr\u001b[39m,\n\u001b[1;32m     18\u001b[0m     prot_name: \u001b[39mstr\u001b[39m,\n\u001b[1;32m     19\u001b[0m     file_chain: \u001b[39mstr\u001b[39m,\n\u001b[1;32m     20\u001b[0m     sv_fp: \u001b[39mstr\u001b[39m,\n\u001b[1;32m     21\u001b[0m ) \u001b[39m-\u001b[39m\u001b[39m>\u001b[39m \u001b[39mstr\u001b[39m:\n\u001b[1;32m     22\u001b[0m \u001b[39m    \u001b[39m\u001b[39m\"\"\"\u001b[39;00m\n\u001b[1;32m     23\u001b[0m \u001b[39m    Generate the helix surface.\u001b[39;00m\n\u001b[1;32m     24\u001b[0m \n\u001b[0;32m   (...)\u001b[0m\n\u001b[1;32m     39\u001b[0m \u001b[39m        'Finished' if the success of the operation (0 indicates success).\u001b[39;00m\n\u001b[1;32m     40\u001b[0m \u001b[39m    \"\"\"\u001b[39;00m\n\u001b[1;32m     41\u001b[0m     \u001b[39mreturn\u001b[39;00m hs(\n\u001b[1;32m     42\u001b[0m         msa_path\u001b[39m=\u001b[39;49mmsa_path,\n\u001b[1;32m     43\u001b[0m         prot_name\u001b[39m=\u001b[39;49mprot_name,\n\u001b[1;32m     44\u001b[0m         file_chain\u001b[39m=\u001b[39;49mfile_chain,\n\u001b[1;32m     45\u001b[0m         sv_fp\u001b[39m=\u001b[39;49msv_fp,\n\u001b[0;32m---> 46\u001b[0m     )\u001b[39m.\u001b[39;49mgenerate()\n",
      "File \u001b[0;32m/workspace/tmkit/property/HelixSurface.py:71\u001b[0m, in \u001b[0;36mHelixSurface.generate\u001b[0;34m(self)\u001b[0m\n\u001b[1;32m     69\u001b[0m msa_fpn \u001b[39m=\u001b[39m \u001b[39mself\u001b[39m\u001b[39m.\u001b[39mmsa_path \u001b[39m+\u001b[39m \u001b[39mself\u001b[39m\u001b[39m.\u001b[39mprot_name \u001b[39m+\u001b[39m \u001b[39mself\u001b[39m\u001b[39m.\u001b[39mfile_chain \u001b[39m+\u001b[39m \u001b[39m\"\u001b[39m\u001b[39m.aln\u001b[39m\u001b[39m\"\u001b[39m\n\u001b[1;32m     70\u001b[0m sv_fpn \u001b[39m=\u001b[39m \u001b[39mself\u001b[39m\u001b[39m.\u001b[39msv_fp \u001b[39m+\u001b[39m \u001b[39mself\u001b[39m\u001b[39m.\u001b[39mprot_name \u001b[39m+\u001b[39m \u001b[39mself\u001b[39m\u001b[39m.\u001b[39mfile_chain \u001b[39m+\u001b[39m \u001b[39m\"\u001b[39m\u001b[39m/\u001b[39m\u001b[39m\"\u001b[39m\n\u001b[0;32m---> 71\u001b[0m \u001b[39mself\u001b[39m\u001b[39m.\u001b[39msurf \u001b[39m=\u001b[39m subprocess\u001b[39m.\u001b[39;49mcall(\n\u001b[1;32m     72\u001b[0m     [\n\u001b[1;32m     73\u001b[0m         \u001b[39m\"\u001b[39;49m\u001b[39mperl\u001b[39;49m\u001b[39m\"\u001b[39;49m,\n\u001b[1;32m     74\u001b[0m         \u001b[39mself\u001b[39;49m\u001b[39m.\u001b[39;49mlips_fpn,\n\u001b[1;32m     75\u001b[0m         msa_fpn,\n\u001b[1;32m     76\u001b[0m         sv_fpn,\n\u001b[1;32m     77\u001b[0m     ],\n\u001b[1;32m     78\u001b[0m     shell\u001b[39m=\u001b[39;49m\u001b[39mTrue\u001b[39;49;00m,\n\u001b[1;32m     79\u001b[0m )\n\u001b[1;32m     80\u001b[0m \u001b[39mreturn\u001b[39;00m \u001b[39m'\u001b[39m\u001b[39mFinished\u001b[39m\u001b[39m'\u001b[39m\n",
      "File \u001b[0;32m/usr/lib/python3.10/subprocess.py:347\u001b[0m, in \u001b[0;36mcall\u001b[0;34m(timeout, *popenargs, **kwargs)\u001b[0m\n\u001b[1;32m    345\u001b[0m \u001b[39mwith\u001b[39;00m Popen(\u001b[39m*\u001b[39mpopenargs, \u001b[39m*\u001b[39m\u001b[39m*\u001b[39mkwargs) \u001b[39mas\u001b[39;00m p:\n\u001b[1;32m    346\u001b[0m     \u001b[39mtry\u001b[39;00m:\n\u001b[0;32m--> 347\u001b[0m         \u001b[39mreturn\u001b[39;00m p\u001b[39m.\u001b[39;49mwait(timeout\u001b[39m=\u001b[39;49mtimeout)\n\u001b[1;32m    348\u001b[0m     \u001b[39mexcept\u001b[39;00m:  \u001b[39m# Including KeyboardInterrupt, wait handled that.\u001b[39;00m\n\u001b[1;32m    349\u001b[0m         p\u001b[39m.\u001b[39mkill()\n",
      "File \u001b[0;32m/usr/lib/python3.10/subprocess.py:1207\u001b[0m, in \u001b[0;36mPopen.wait\u001b[0;34m(self, timeout)\u001b[0m\n\u001b[1;32m   1205\u001b[0m     endtime \u001b[39m=\u001b[39m _time() \u001b[39m+\u001b[39m timeout\n\u001b[1;32m   1206\u001b[0m \u001b[39mtry\u001b[39;00m:\n\u001b[0;32m-> 1207\u001b[0m     \u001b[39mreturn\u001b[39;00m \u001b[39mself\u001b[39;49m\u001b[39m.\u001b[39;49m_wait(timeout\u001b[39m=\u001b[39;49mtimeout)\n\u001b[1;32m   1208\u001b[0m \u001b[39mexcept\u001b[39;00m \u001b[39mKeyboardInterrupt\u001b[39;00m:\n\u001b[1;32m   1209\u001b[0m     \u001b[39m# https://bugs.python.org/issue25942\u001b[39;00m\n\u001b[1;32m   1210\u001b[0m     \u001b[39m# The first keyboard interrupt waits briefly for the child to\u001b[39;00m\n\u001b[1;32m   1211\u001b[0m     \u001b[39m# exit under the common assumption that it also received the ^C\u001b[39;00m\n\u001b[1;32m   1212\u001b[0m     \u001b[39m# generated SIGINT and will exit rapidly.\u001b[39;00m\n\u001b[1;32m   1213\u001b[0m     \u001b[39mif\u001b[39;00m timeout \u001b[39mis\u001b[39;00m \u001b[39mnot\u001b[39;00m \u001b[39mNone\u001b[39;00m:\n",
      "File \u001b[0;32m/usr/lib/python3.10/subprocess.py:1941\u001b[0m, in \u001b[0;36mPopen._wait\u001b[0;34m(self, timeout)\u001b[0m\n\u001b[1;32m   1939\u001b[0m \u001b[39mif\u001b[39;00m \u001b[39mself\u001b[39m\u001b[39m.\u001b[39mreturncode \u001b[39mis\u001b[39;00m \u001b[39mnot\u001b[39;00m \u001b[39mNone\u001b[39;00m:\n\u001b[1;32m   1940\u001b[0m     \u001b[39mbreak\u001b[39;00m  \u001b[39m# Another thread waited.\u001b[39;00m\n\u001b[0;32m-> 1941\u001b[0m (pid, sts) \u001b[39m=\u001b[39m \u001b[39mself\u001b[39;49m\u001b[39m.\u001b[39;49m_try_wait(\u001b[39m0\u001b[39;49m)\n\u001b[1;32m   1942\u001b[0m \u001b[39m# Check the pid and loop as waitpid has been known to\u001b[39;00m\n\u001b[1;32m   1943\u001b[0m \u001b[39m# return 0 even without WNOHANG in odd situations.\u001b[39;00m\n\u001b[1;32m   1944\u001b[0m \u001b[39m# http://bugs.python.org/issue14396.\u001b[39;00m\n\u001b[1;32m   1945\u001b[0m \u001b[39mif\u001b[39;00m pid \u001b[39m==\u001b[39m \u001b[39mself\u001b[39m\u001b[39m.\u001b[39mpid:\n",
      "File \u001b[0;32m/usr/lib/python3.10/subprocess.py:1899\u001b[0m, in \u001b[0;36mPopen._try_wait\u001b[0;34m(self, wait_flags)\u001b[0m\n\u001b[1;32m   1897\u001b[0m \u001b[39m\u001b[39m\u001b[39m\"\"\"All callers to this function MUST hold self._waitpid_lock.\"\"\"\u001b[39;00m\n\u001b[1;32m   1898\u001b[0m \u001b[39mtry\u001b[39;00m:\n\u001b[0;32m-> 1899\u001b[0m     (pid, sts) \u001b[39m=\u001b[39m os\u001b[39m.\u001b[39;49mwaitpid(\u001b[39mself\u001b[39;49m\u001b[39m.\u001b[39;49mpid, wait_flags)\n\u001b[1;32m   1900\u001b[0m \u001b[39mexcept\u001b[39;00m \u001b[39mChildProcessError\u001b[39;00m:\n\u001b[1;32m   1901\u001b[0m     \u001b[39m# This happens if SIGCLD is set to be ignored or waiting\u001b[39;00m\n\u001b[1;32m   1902\u001b[0m     \u001b[39m# for child processes has otherwise been disabled for our\u001b[39;00m\n\u001b[1;32m   1903\u001b[0m     \u001b[39m# process.  This child is dead, we can't get the status.\u001b[39;00m\n\u001b[1;32m   1904\u001b[0m     pid \u001b[39m=\u001b[39m \u001b[39mself\u001b[39m\u001b[39m.\u001b[39mpid\n",
      "\u001b[0;31mKeyboardInterrupt\u001b[0m: "
     ]
    }
   ],
   "source": [
    "tmk.feature.generate_helix_surfaces(\n",
    "  msa_path = os.path.join(tmp_data, 'data/msa/'),\n",
    "    prot_name='1xqf',\n",
    "    file_chain='A',\n",
    "    sv_fp = os.path.join(tmp_data, 'data/lips/'),\n",
    ")"
   ]
  },
  {
   "cell_type": "code",
   "execution_count": null,
   "metadata": {},
   "outputs": [],
   "source": [
    "prots = [\n",
    "    ['1xqf', 'A'],\n",
    "    ['3pux', 'G'],\n",
    "    ['3rko', 'A'],\n",
    "]\n",
    "df_prot = pd.DataFrame(prots, columns=['prot', 'chain'])\n",
    "df_prot"
   ]
  },
  {
   "cell_type": "code",
   "execution_count": null,
   "metadata": {},
   "outputs": [],
   "source": [
    "tmk.feature.bgenerate_helix_surfaces(\n",
    "  msa_path = os.path.join(tmp_data, 'data/msa/'),\n",
    "  sv_fp = os.path.join(tmp_data, 'data/lips/'),\n",
    "    df_prot=df_prot,\n",
    ")"
   ]
  },
  {
   "cell_type": "markdown",
   "metadata": {},
   "source": [
    "# CATH"
   ]
  },
  {
   "cell_type": "code",
   "execution_count": null,
   "metadata": {},
   "outputs": [
    {
     "name": "stdout",
     "output_type": "stream",
     "text": [
      "{'domain': 'http://www.cathdb.info/version/v4_2_0/api/rest/domain_summary/1cukA01', 'funfam': 'http://www.cathdb.info/version/v4_2_0/api/rest/superfamily/1.10.8.10/funfam/1cukA01', 'superfamily': 'http://www.cathdb.info/version/v4_2_0/api/rest/superfamily/1cukA01'}\n"
     ]
    }
   ],
   "source": [
    "res = tmk.cath.summary_by_id(\n",
    "    id='1cukA01'\n",
    ")\n",
    "\n",
    "\n",
    "res[\"domain\"] == \"http://www.cathdb.info/version/v4_2_0/api/rest/domain_summary/1cukA01\""
   ]
  },
  {
   "cell_type": "markdown",
   "metadata": {},
   "source": [
    "# MSA\n",
    "\n",
    "## HHblits"
   ]
  },
  {
   "cell_type": "code",
   "execution_count": null,
   "metadata": {},
   "outputs": [],
   "source": [
    "prots = [\n",
    "    ['6e3y', 'E'],\n",
    "    ['6rfq', 'S'],\n",
    "    ['6t0b', 'm'],\n",
    "]\n",
    "\n",
    "df = pd.DataFrame(prots, columns=['prot', 'chain'])\n",
    "df"
   ]
  },
  {
   "cell_type": "code",
   "execution_count": null,
   "metadata": {},
   "outputs": [],
   "source": [
    "fasta_fp = os.path.join(tmp_data, 'data/fasta/')\n",
    "hhblits_fp = os.path.join(tmp_data, 'hhblits/bin/')\n",
    "db_path = os.path.join(tmp_data, 'uniclust_2020.06/UniRef30_2020_06')\n",
    "sv_fp = os.path.join(tmp_data, 'data/a3m/')\n",
    "\n",
    "for id in df.index:\n",
    "    prot_name = df.loc[id, 'prot']\n",
    "    seq_chain = df.loc[id, 'chain']\n",
    "    tmk.msa.run_hhblits(\n",
    "        hhblits_fp=hhblits_fp,\n",
    "        fasta_fpn=fasta_fp + prot_name + seq_chain + '.fasta',\n",
    "        sv_fpn=sv_fp + prot_name + seq_chain + '.a3m',\n",
    "        db_path=db_path,\n",
    "\n",
    "        # additional parameters\n",
    "        cpu=2,\n",
    "        iteration=3,\n",
    "        maxfilter=100000,\n",
    "        realign_max=100000,\n",
    "        all='',\n",
    "        B=100000,\n",
    "        Z=100000,\n",
    "        e=0.001,\n",
    "\n",
    "        # if you won't do it on clusters, please give False to the parameter send2cloud\n",
    "        send2cloud=False,\n",
    "        cloud_cmd=\"\",\n",
    "\n",
    "        # send2cloud=True,\n",
    "        # cloud_cmd=\"qsub -q all.q -N 'jsun'\",\n",
    "    )"
   ]
  },
  {
   "cell_type": "markdown",
   "metadata": {},
   "source": [
    "## HHfilter"
   ]
  },
  {
   "cell_type": "code",
   "execution_count": null,
   "metadata": {},
   "outputs": [],
   "source": [
    "prots = [\n",
    "    ['6e3y', 'E'],\n",
    "    ['6rfq', 'S'],\n",
    "    ['6t0b', 'm'],\n",
    "]\n",
    "import pandas as pd\n",
    "df = pd.DataFrame(prots, columns=['prot', 'chain'])\n",
    "\n",
    "\n",
    "hhfilter_fp = './hhblits/bin/'\n",
    "a3m_path = 'data/a3m/'\n",
    "new_a3m_path = 'data/a3m/filter/'\n",
    "\n",
    "\n",
    "hhfilter_fp = os.path.join(tmp_data, 'hhblits/bin/')\n",
    "a3m_path = os.path.join(tmp_data, 'data/a3m/')\n",
    "new_a3m_path = os.path.join(tmp_data, 'data/a3m/filter/')\n",
    "\n",
    "for id in df.index:\n",
    "    prot_name = df.loc[id, 'prot']\n",
    "    seq_chain = df.loc[id, 'chain']\n",
    "    tmk.msa.run_hhfilter(\n",
    "        hhfilter_fp=hhfilter_fp,\n",
    "        id=90,\n",
    "        a3m_fpn=a3m_path + prot_name + seq_chain + '.a3m',\n",
    "        new_a3m_fpn=new_a3m_path + prot_name + seq_chain + '.a3m',\n",
    "\n",
    "        # if you won't do it on clusters, please give False to the parameter send2cloud\n",
    "        send2cloud=False,\n",
    "        cloud_cmd=\"\",\n",
    "\n",
    "        # send2cloud=True,\n",
    "        # cloud_cmd=\"qsub -q all.q -N 'jsun'\",\n",
    "    )"
   ]
  },
  {
   "cell_type": "markdown",
   "metadata": {},
   "source": [
    "# Collation"
   ]
  },
  {
   "cell_type": "code",
   "execution_count": null,
   "metadata": {},
   "outputs": [
    {
     "name": "stdout",
     "output_type": "stream",
     "text": [
      "======>protein has chains ['A', 'B', 'C', 'D', 'E', 'F', 'G', 'H']\n",
      "['A', 'B', 'C', 'D', 'E', 'F', 'G', 'H']\n"
     ]
    }
   ],
   "source": [
    "# PDBTM\n",
    "\n",
    "pdb_rcsb_fp = os.path.join(dir_data, 'pdb/collate/rcsb/')\n",
    "pdb_pdbtm_fp = os.path.join(dir_data, 'pdb/collate/pdbtm/')\n",
    "\n",
    "chains = tmk.collate.chain(\n",
    "    prot_name='6cxh',\n",
    "    pdb_fp=pdb_pdbtm_fp,\n",
    ")\n",
    "print(chains)"
   ]
  },
  {
   "cell_type": "markdown",
   "metadata": {},
   "source": [
    "# Edge\n",
    "\n",
    "## bipartite"
   ]
  },
  {
   "cell_type": "code",
   "execution_count": null,
   "metadata": {},
   "outputs": [],
   "source": [
    "from tmkit.sequence import Fasta as sfasta\n",
    "from tmkit.seqnetrr.combo.Length import length as pl\n",
    "from tmkit.seqnetrr.combo.Position import Position as pfasta\n",
    "from tmkit.seqnetrr.window.Pair import Pair\n",
    "from tmkit.seqnetrr.graph.Bipartite import Bipartite as bigraph\n",
    "\n",
    "# read a sequence\n",
    "sequence = sfasta.get(\n",
    "  fasta_fpn = os.path.join(tmp_data, 'data/fasta/1xqfA.fasta')\n",
    ")\n",
    "sequence\n",
    "\n",
    "\n",
    "# generate residue pairs according to sequence separation\n",
    "pos_list = pl(\n",
    "    seq_sep_superior=None,\n",
    "    seq_sep_inferior=0\n",
    ").to_pair(\n",
    "    length=len(sequence)\n",
    ")\n",
    "pos_list[:10]\n",
    "\n",
    "\n",
    "\n",
    "position = pfasta(\n",
    "    sequence=sequence,\n",
    ").pair(\n",
    "    pos_list=pos_list,\n",
    ")\n",
    "position[:10]\n",
    "\n",
    "\n",
    "\n",
    "window_m_ids = Pair(\n",
    "    sequence=sequence,\n",
    "    position=position,\n",
    "    window_size=5,\n",
    ").mid()\n",
    "window_m_ids[:10]\n",
    "\n",
    "\n",
    "\n",
    "res = bigraph(\n",
    "    sequence=sequence,\n",
    "    window_size=5,\n",
    "    window_m_ids=window_m_ids,\n",
    "    kind='patch',\n",
    "    patch_size=2,\n",
    "    input_kind='simulate',\n",
    ").assign(\n",
    "    list_2d=position,\n",
    "    simu_seq_len=len(sequence),\n",
    "    mode='hash',\n",
    ")\n",
    "# print(res)\n",
    "\n",
    "\n",
    "\n",
    "res = bigraph(\n",
    "    sequence=sequence,\n",
    "    window_size=5,\n",
    "    window_m_ids=window_m_ids,\n",
    "    kind='patch',\n",
    "    patch_size=2,\n",
    "    input_kind='simulate',\n",
    ").assign(\n",
    "    list_2d=position,\n",
    "    simu_seq_len=len(sequence),\n",
    "    mode='hash',\n",
    ")\n",
    "# res"
   ]
  },
  {
   "cell_type": "markdown",
   "metadata": {},
   "source": [
    "## Unigraph - Pipeline"
   ]
  },
  {
   "cell_type": "code",
   "execution_count": null,
   "metadata": {},
   "outputs": [],
   "source": [
    "from tmkit.sequence import Fasta as sfasta\n",
    "\n",
    "# read a sequence\n",
    "sequence = sfasta.get(\n",
    "  fasta_fpn = os.path.join(tmp_data, 'data/fasta/1xqfA.fasta')\n",
    ")\n",
    "print(sequence)"
   ]
  },
  {
   "cell_type": "code",
   "execution_count": null,
   "metadata": {},
   "outputs": [],
   "source": [
    "from tmkit.seqnetrr.combo.Length import length as pl\n",
    "\n",
    "# generate residue pairs according to sequence separation\n",
    "pos_list = pl(\n",
    "    seq_sep_superior=None,\n",
    "    seq_sep_inferior=0\n",
    ").to_pair(\n",
    "    length=len(sequence)\n",
    ")\n",
    "pos_list[:10]"
   ]
  },
  {
   "cell_type": "code",
   "execution_count": null,
   "metadata": {},
   "outputs": [],
   "source": [
    "from tmkit.seqnetrr.combo.Position import Position as pfasta\n",
    "\n",
    "position = pfasta(\n",
    "    sequence=sequence,\n",
    ").pair(\n",
    "    pos_list=pos_list,\n",
    ")\n",
    "print(position[:10])"
   ]
  },
  {
   "cell_type": "code",
   "execution_count": null,
   "metadata": {},
   "outputs": [],
   "source": [
    "from tmkit.seqnetrr.window.Pair import Pair\n",
    "\n",
    "window_m_ids = Pair(\n",
    "    sequence=sequence,\n",
    "    position=position,\n",
    "    window_size=5,\n",
    ").mid()\n",
    "print(window_m_ids[:10])"
   ]
  },
  {
   "cell_type": "code",
   "execution_count": null,
   "metadata": {},
   "outputs": [],
   "source": [
    "from tmkit.seqnetrr.graph.Unipartite import Unipartite as unigraph\n",
    "\n",
    "res = unigraph(\n",
    "    sequence=sequence,\n",
    "    window_size=5,\n",
    "    window_m_ids=window_m_ids,\n",
    "    input_kind='freecontact',\n",
    ").assign(\n",
    "    list_2d=position,\n",
    "    fpn='data/rrc/tool/1xqfA.evfold',\n",
    "    mode='hash',\n",
    ")"
   ]
  },
  {
   "cell_type": "code",
   "execution_count": null,
   "metadata": {},
   "outputs": [],
   "source": [
    "from tmkit.seqnetrr.graph.Unipartite import Unipartite as unigraph\n",
    "\n",
    "res = unigraph(\n",
    "    sequence=sequence,\n",
    "    window_size=5,\n",
    "    window_m_ids=window_m_ids,\n",
    "    input_kind='simulate',\n",
    ").assign(\n",
    "    list_2d=position,\n",
    "    simu_seq_len=len(sequence),\n",
    "    mode='hash',\n",
    ")"
   ]
  },
  {
   "cell_type": "markdown",
   "metadata": {},
   "source": [
    "## Unigraph - Pipeline?"
   ]
  },
  {
   "cell_type": "code",
   "execution_count": null,
   "metadata": {},
   "outputs": [],
   "source": [
    "from tmkit.sequence import Fasta as sfasta\n",
    "# read a sequence\n",
    "sequence = sfasta.get(\n",
    "  fasta_fpn = os.path.join(tmp_data, 'data/fasta/1xqfA.fasta')\n",
    ")\n",
    "print(sequence)"
   ]
  },
  {
   "cell_type": "code",
   "execution_count": null,
   "metadata": {},
   "outputs": [],
   "source": [
    "from tmkit.seqnetrr.combo.Length import length as plength\n",
    "\n",
    "pos_list = plength(\n",
    "    seq_sep_inferior=0,\n",
    "    seq_sep_superior=None,\n",
    ").tosgl(\n",
    "    length=len(sequence),\n",
    ")\n",
    "print(pos_list[:10])"
   ]
  },
  {
   "cell_type": "code",
   "execution_count": null,
   "metadata": {},
   "outputs": [],
   "source": [
    "from tmkit.seqnetrr.combo.Position import Position as pfasta\n",
    "\n",
    "position = pfasta(\n",
    "    sequence=sequence,\n",
    ").single(\n",
    "    pos_list=pos_list,\n",
    ")\n",
    "print(position[:10])"
   ]
  },
  {
   "cell_type": "code",
   "execution_count": null,
   "metadata": {},
   "outputs": [],
   "source": [
    "from tmkit.seqnetrr.window.Single import Single\n",
    "\n",
    "window_m_ids = Single(\n",
    "    sequence=sequence,\n",
    "    position=position,\n",
    "    window_size=3,\n",
    ").mid()\n",
    "print(window_m_ids[:10])"
   ]
  },
  {
   "cell_type": "code",
   "execution_count": null,
   "metadata": {},
   "outputs": [],
   "source": [
    "from tmkit.seqnetrr.graph.Cumulative import Cumulative\n",
    "\n",
    "res = Cumulative(\n",
    "    sequence=sequence,\n",
    "    window_size=5,\n",
    "    window_m_ids=window_m_ids,\n",
    "    input_kind='freecontact',\n",
    ").assign(\n",
    "    list_2d=position,\n",
    "    L=int(len(sequence)/5),\n",
    "    fpn = os.path.join(tmp_data, 'data/rrc/tool/1xqfA.evfold')\n",
    ")"
   ]
  },
  {
   "cell_type": "code",
   "execution_count": null,
   "metadata": {},
   "outputs": [],
   "source": [
    "from tmkit.seqnetrr.graph.Cumulative import Cumulative\n",
    "\n",
    "res = Cumulative(\n",
    "    sequence=sequence,\n",
    "    window_size=5,\n",
    "    window_m_ids=window_m_ids,\n",
    "    input_kind='simulate',\n",
    ").assign(\n",
    "    list_2d=position,\n",
    "    L=int(len(sequence)/5),\n",
    "    simu_seq_len=len(sequence),\n",
    ")\n",
    "print(res[:10])"
   ]
  },
  {
   "cell_type": "code",
   "execution_count": null,
   "metadata": {},
   "outputs": [],
   "source": []
  },
  {
   "cell_type": "markdown",
   "metadata": {},
   "source": [
    "# Mapping"
   ]
  },
  {
   "cell_type": "code",
   "execution_count": null,
   "metadata": {},
   "outputs": [
    {
     "name": "stdout",
     "output_type": "stream",
     "text": [
      "P02185\n"
     ]
    }
   ],
   "source": [
    "\n",
    "res = tmk.mapping.pdb2uniprot(\n",
    "    id='101m.A',\n",
    "    ref_fpn= os.path.join(dir_data, 'map/pdb_chain_uniprot.csv'),\n",
    ")\n",
    "print(res)"
   ]
  },
  {
   "cell_type": "markdown",
   "metadata": {},
   "source": [
    "# Mutation"
   ]
  },
  {
   "cell_type": "code",
   "execution_count": null,
   "metadata": {},
   "outputs": [],
   "source": [
    "import tmkit as tmk\n",
    "\n",
    "tmk.mut.download_predmuthtp_db(\n",
    "    sv_fp= os.path.join(tmp_data, 'data/ppi/mutation')\n",
    ")"
   ]
  },
  {
   "cell_type": "markdown",
   "metadata": {},
   "source": [
    "# PPI"
   ]
  },
  {
   "cell_type": "code",
   "execution_count": null,
   "metadata": {},
   "outputs": [
    {
     "name": "stdout",
     "output_type": "stream",
     "text": [
      "===>The IntAct database of version current is being downloaded...\n",
      "===>The database of version current is successfully downloaded!\n",
      "===>The database of version current is being decompressed...\n",
      "===>The database of version current is successfully decompressed!\n"
     ]
    },
    {
     "data": {
      "text/plain": [
       "'Finished!'"
      ]
     },
     "execution_count": 4,
     "metadata": {},
     "output_type": "execute_result"
    }
   ],
   "source": [
    "tmk.ppi.download_intact_db(\n",
    "    version='current',\n",
    "    sv_fp= os.path.join(exp_data, 'ppi')\n",
    ")"
   ]
  },
  {
   "cell_type": "markdown",
   "metadata": {},
   "source": [
    "# Residue contact"
   ]
  },
  {
   "cell_type": "code",
   "execution_count": null,
   "metadata": {},
   "outputs": [],
   "source": [
    "import tmkit as tmk\n",
    "\n",
    "df1 = tmk.rrc.read(\n",
    "    prot_name='1xqf',\n",
    "    seq_chain='A',\n",
    "    fasta_fp = os.path.join(tmp_data, 'data/fasta/'),\n",
    "    pdb_fp = os.path.join(tmp_data, 'data/pdb/'),\n",
    "    xml_fp = os.path.join(tmp_data, 'data/xml/'),\n",
    "    dist_fp = os.path.join(tmp_data, 'data/rrc/'),\n",
    "    tool_fp = os.path.join(tmp_data, 'data/rrc/tool/'),\n",
    "    seq_sep_inferior=1,\n",
    "    seq_sep_superior=None,\n",
    "    tool='membrain2',\n",
    ")\n",
    "df1"
   ]
  }
 ],
 "metadata": {
  "kernelspec": {
   "display_name": ".venv",
   "language": "python",
   "name": "python3"
  },
  "language_info": {
   "codemirror_mode": {
    "name": "ipython",
    "version": 3
   },
   "file_extension": ".py",
   "mimetype": "text/x-python",
   "name": "python",
   "nbconvert_exporter": "python",
   "pygments_lexer": "ipython3",
   "version": "3.10.6"
  },
  "orig_nbformat": 4
 },
 "nbformat": 4,
 "nbformat_minor": 2
}
