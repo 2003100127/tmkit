{
 "cells": [
  {
   "cell_type": "code",
   "execution_count": 1,
   "metadata": {},
   "outputs": [
    {
     "name": "stderr",
     "output_type": "stream",
     "text": [
      "/workspace/.venv/lib/python3.10/site-packages/biopandas/pdb/pandas_pdb.py:27: DeprecationWarning: distutils Version classes are deprecated. Use packaging.version instead.\n",
      "  pd_version = LooseVersion(pd.__version__)\n"
     ]
    }
   ],
   "source": [
    "import os\n",
    "import pandas as pd\n",
    "import tmkit as tmk\n",
    "from typing import List, Tuple\n",
    "from tmkit.topo import from_pdbtm, from_tmhmm, from_phobius\n",
    "from tests import dir_data, tmp_data, exp_data"
   ]
  },
  {
   "cell_type": "markdown",
   "metadata": {},
   "source": [
    "# Sequence\n",
    "\n",
    "## Retrieve\n",
    "\n",
    "### RCSB PDB file"
   ]
  },
  {
   "cell_type": "code",
   "execution_count": null,
   "metadata": {},
   "outputs": [],
   "source": [
    "dpath = os.path.join(tmp_data, 'pdb/')\n",
    "os.makedirs(dpath, exist_ok=True)\n",
    "\n",
    "prot_series = pd.Series([\"6e3y\", \"1xqf\"])\n",
    "\n",
    "tmk.seq.retrieve_pdb_from_rcsb(\n",
    "    prot_series=prot_series,\n",
    "    sv_fp= dpath,\n",
    ")"
   ]
  },
  {
   "cell_type": "markdown",
   "metadata": {},
   "source": [
    "### PDBTM PDB file"
   ]
  },
  {
   "cell_type": "code",
   "execution_count": 12,
   "metadata": {},
   "outputs": [
    {
     "name": "stdout",
     "output_type": "stream",
     "text": [
      "===>No.1 protein name: 6e3y\n"
     ]
    },
    {
     "name": "stdout",
     "output_type": "stream",
     "text": [
      "===>No.2 protein name: 6rfq\n",
      "===>No.3 protein name: 6t0b\n"
     ]
    }
   ],
   "source": [
    "dpath = os.path.join(tmp_data, 'pdb/pdbtm/')\n",
    "os.makedirs(dpath, exist_ok=True)\n",
    "\n",
    "tmk.seq.retrieve_pdb_from_pdbtm(\n",
    "    prot_series=prot_series,\n",
    "    sv_fp = dpath,\n",
    ")"
   ]
  },
  {
   "cell_type": "markdown",
   "metadata": {},
   "source": [
    "### PDBTM XML file"
   ]
  },
  {
   "cell_type": "code",
   "execution_count": null,
   "metadata": {},
   "outputs": [
    {
     "name": "stdout",
     "output_type": "stream",
     "text": [
      "===>No.0 protein name: 6e3y\n",
      "===>No.1 protein name: 6rfq\n",
      "===>No.2 protein name: 6t0b\n",
      "===>No.3 protein name: 1xqf\n"
     ]
    },
    {
     "data": {
      "text/plain": [
       "0"
      ]
     },
     "execution_count": 42,
     "metadata": {},
     "output_type": "execute_result"
    }
   ],
   "source": [
    "dpath = os.path.join(tmp_data, 'pdb/xml/')\n",
    "os.makedirs(dpath, exist_ok=True)\n",
    "\n",
    "tmk.seq.retrieve_xml_from_pdbtm(\n",
    "    prot_series=prot_series,\n",
    "    sv_fp=dpath,\n",
    ")"
   ]
  },
  {
   "cell_type": "markdown",
   "metadata": {},
   "source": [
    "### AlphaFold PDB file"
   ]
  },
  {
   "cell_type": "code",
   "execution_count": null,
   "metadata": {},
   "outputs": [],
   "source": [
    "dpath = os.path.join(tmp_data, 'pdb/alphafold/')\n",
    "os.makedirs(dpath, exist_ok=True)\n",
    "\n",
    "prot_series = pd.Series(['P63092', 'Q9B6E8', 'P07256', 'P63027'])\n",
    "\n",
    "tmk.seq.retrieve_pdb_alphafold(\n",
    "    prot_series=prot_series,\n",
    "    sv_fp=dpath,\n",
    ")"
   ]
  },
  {
   "cell_type": "markdown",
   "metadata": {},
   "source": [
    "## Read"
   ]
  },
  {
   "cell_type": "code",
   "execution_count": null,
   "metadata": {},
   "outputs": [],
   "source": [
    "# Sequence from a Fasta file\n",
    "\n",
    "fin = os.path.join(dir_data, \"1xqfA.fasta\")\n",
    "\n",
    "sequence = tmk.seq.read_from_fasta(fasta_fpn=fin)\n",
    "sequence\n",
    "\n",
    "# Get residue IDs from a FASTA file\n",
    "seq_fasta_ids = tmk.seq.fasid(fasta_fpn=fin)\n"
   ]
  },
  {
   "cell_type": "code",
   "execution_count": null,
   "metadata": {},
   "outputs": [
    {
     "data": {
      "text/plain": [
       "'AVADKADNAFMMICTALVLFMTIPGIALFYGGLIRGKNVLSMLTQVTVTFALVCILWVVYGYSLAFGEGNNFFGNINWLMLKNIELTAVMGSIYQYIHVAFQGSFACITVGLIVGALAERIRFSAVLIFVVVWLTLSYIPIAHMVWGGGLLASHGALDFAGGTVVHINAAIAGLVGAYLPHNLPMVFTGTAILYIGWFGFNAGSAGTANEIAALAFVNTVVATAAAILGWIFGEWALRGKPSLLGACSGAIAGLVGVTPACGYIGVGGALIIGVVAGLAGLWGVTMPCDVFGVHGVCGIVGCIMTGIFAASSLGGVGFAEGVTMGHQLLVQLESIAITIVWSGVVAFIGYKLADLTVGLRVP'"
      ]
     },
     "execution_count": 41,
     "metadata": {},
     "output_type": "execute_result"
    }
   ],
   "source": [
    "# Sequence from a PDB file\n",
    "\n",
    "fin = os.path.join(tmp_data, \"pdb/1xqf.pdb\")\n",
    "\n",
    "sequence = tmk.seq.read_from_pdb(\n",
    "    pdb_fp=dir_data,\n",
    "    prot_name='1xqf',\n",
    "    seq_chain='A',\n",
    "    file_chain='A',\n",
    ")\n",
    "\n",
    "sequence"
   ]
  },
  {
   "cell_type": "code",
   "execution_count": null,
   "metadata": {},
   "outputs": [],
   "source": [
    "# TODO: bug in the function\n",
    "# Sequence from an XML file\n",
    "sequence = tmk.seq.read_from_xml(\n",
    "    xml_fp=dir_data,\n",
    "    xml_name='1xqf',\n",
    "    seq_chain='A',\n",
    ")"
   ]
  },
  {
   "cell_type": "markdown",
   "metadata": {},
   "source": [
    "# Feature\n",
    "\n",
    "## Helix surface identification"
   ]
  },
  {
   "cell_type": "code",
   "execution_count": 3,
   "metadata": {},
   "outputs": [],
   "source": [
    "import tmkit as tmk\n",
    "\n",
    "fdir = os.path.join(dir_data, \"lips-\")\n",
    "\n",
    "df = tmk.feature.read_helix_surf(\n",
    "    fp=fdir,\n",
    "    prot_name='1xqf',\n",
    "    file_chain='A',\n",
    "    id=1,\n",
    ")"
   ]
  },
  {
   "cell_type": "code",
   "execution_count": null,
   "metadata": {},
   "outputs": [],
   "source": [
    "aa_surf_rank, _, _, _ = tmk.feature.read(\n",
    "    fp=fdir,\n",
    "    prot_name='1xqf',\n",
    "    file_chain='A',\n",
    ")"
   ]
  },
  {
   "cell_type": "code",
   "execution_count": 10,
   "metadata": {},
   "outputs": [
    {
     "data": {
      "text/html": [
       "<div>\n",
       "<style scoped>\n",
       "    .dataframe tbody tr th:only-of-type {\n",
       "        vertical-align: middle;\n",
       "    }\n",
       "\n",
       "    .dataframe tbody tr th {\n",
       "        vertical-align: top;\n",
       "    }\n",
       "\n",
       "    .dataframe thead th {\n",
       "        text-align: right;\n",
       "    }\n",
       "</style>\n",
       "<table border=\"1\" class=\"dataframe\">\n",
       "  <thead>\n",
       "    <tr style=\"text-align: right;\">\n",
       "      <th></th>\n",
       "      <th>surfs</th>\n",
       "      <th>lipos</th>\n",
       "      <th>ents</th>\n",
       "      <th>lxe</th>\n",
       "    </tr>\n",
       "  </thead>\n",
       "  <tbody>\n",
       "    <tr>\n",
       "      <th>0</th>\n",
       "      <td>5</td>\n",
       "      <td>1.834</td>\n",
       "      <td>4.846</td>\n",
       "      <td>8.889</td>\n",
       "    </tr>\n",
       "    <tr>\n",
       "      <th>1</th>\n",
       "      <td>0</td>\n",
       "      <td>1.770</td>\n",
       "      <td>4.912</td>\n",
       "      <td>8.694</td>\n",
       "    </tr>\n",
       "    <tr>\n",
       "      <th>2</th>\n",
       "      <td>3</td>\n",
       "      <td>1.729</td>\n",
       "      <td>4.852</td>\n",
       "      <td>8.389</td>\n",
       "    </tr>\n",
       "    <tr>\n",
       "      <th>3</th>\n",
       "      <td>1</td>\n",
       "      <td>1.815</td>\n",
       "      <td>4.885</td>\n",
       "      <td>8.865</td>\n",
       "    </tr>\n",
       "    <tr>\n",
       "      <th>4</th>\n",
       "      <td>2</td>\n",
       "      <td>1.791</td>\n",
       "      <td>4.749</td>\n",
       "      <td>8.507</td>\n",
       "    </tr>\n",
       "    <tr>\n",
       "      <th>5</th>\n",
       "      <td>6</td>\n",
       "      <td>1.777</td>\n",
       "      <td>4.746</td>\n",
       "      <td>8.435</td>\n",
       "    </tr>\n",
       "    <tr>\n",
       "      <th>6</th>\n",
       "      <td>4</td>\n",
       "      <td>1.767</td>\n",
       "      <td>4.948</td>\n",
       "      <td>8.741</td>\n",
       "    </tr>\n",
       "  </tbody>\n",
       "</table>\n",
       "</div>"
      ],
      "text/plain": [
       "   surfs  lipos   ents    lxe\n",
       "0      5  1.834  4.846  8.889\n",
       "1      0  1.770  4.912  8.694\n",
       "2      3  1.729  4.852  8.389\n",
       "3      1  1.815  4.885  8.865\n",
       "4      2  1.791  4.749  8.507\n",
       "5      6  1.777  4.746  8.435\n",
       "6      4  1.767  4.948  8.741"
      ]
     },
     "execution_count": 10,
     "metadata": {},
     "output_type": "execute_result"
    }
   ],
   "source": [
    "df = tmk.feature.read_helix_all_surf(\n",
    "    fp=fdir,\n",
    "    prot_name='1xqf',\n",
    "    file_chain='A',\n",
    ")\n",
    "\n",
    "df\n"
   ]
  },
  {
   "cell_type": "markdown",
   "metadata": {},
   "source": [
    "# CATH"
   ]
  },
  {
   "cell_type": "code",
   "execution_count": 11,
   "metadata": {},
   "outputs": [
    {
     "name": "stdout",
     "output_type": "stream",
     "text": [
      "{'domain': 'http://www.cathdb.info/version/v4_2_0/api/rest/domain_summary/1cukA01', 'funfam': 'http://www.cathdb.info/version/v4_2_0/api/rest/superfamily/1.10.8.10/funfam/1cukA01', 'superfamily': 'http://www.cathdb.info/version/v4_2_0/api/rest/superfamily/1cukA01'}\n"
     ]
    }
   ],
   "source": [
    "import tmkit as tmk\n",
    "\n",
    "res = tmk.cath.summary_by_id(\n",
    "    id='1cukA01'\n",
    ")\n",
    "\n",
    "\n",
    "res[\"domain\"] == \"http://www.cathdb.info/version/v4_2_0/api/rest/domain_summary/1cukA01\""
   ]
  },
  {
   "cell_type": "markdown",
   "metadata": {},
   "source": [
    "# MSA"
   ]
  },
  {
   "cell_type": "code",
   "execution_count": 19,
   "metadata": {},
   "outputs": [],
   "source": [
    "import tmkit as tmk\n",
    "import pandas as pd\n",
    "\n",
    "prot_series = pd.Series(['P63092', 'Q9B6E8'])\n",
    "tmk.seq.retrieve_pdb_alphafold(\n",
    "    prot_series=prot_series,\n",
    "    sv_fp='/tmp',\n",
    ")\n"
   ]
  },
  {
   "cell_type": "markdown",
   "metadata": {},
   "source": [
    "# Collation"
   ]
  },
  {
   "cell_type": "code",
   "execution_count": 2,
   "metadata": {},
   "outputs": [
    {
     "name": "stdout",
     "output_type": "stream",
     "text": [
      "======>protein has chains ['A', 'B', 'C', 'D', 'E', 'F', 'G', 'H']\n",
      "['A', 'B', 'C', 'D', 'E', 'F', 'G', 'H']\n"
     ]
    }
   ],
   "source": [
    "# PDBTM\n",
    "\n",
    "pdb_rcsb_fp = os.path.join(dir_data, 'pdb/collate/rcsb/')\n",
    "pdb_pdbtm_fp = os.path.join(dir_data, 'pdb/collate/pdbtm/')\n",
    "\n",
    "chains = tmk.collate.chain(\n",
    "    prot_name='6cxh',\n",
    "    pdb_fp=pdb_pdbtm_fp,\n",
    ")\n",
    "print(chains)"
   ]
  },
  {
   "cell_type": "markdown",
   "metadata": {},
   "source": [
    "# Mapping"
   ]
  },
  {
   "cell_type": "code",
   "execution_count": 19,
   "metadata": {},
   "outputs": [
    {
     "name": "stdout",
     "output_type": "stream",
     "text": [
      "P02185\n"
     ]
    }
   ],
   "source": [
    "\n",
    "res = tmk.mapping.pdb2uniprot(\n",
    "    id='101m.A',\n",
    "    ref_fpn= os.path.join(dir_data, 'map/pdb_chain_uniprot.csv'),\n",
    ")\n",
    "print(res)"
   ]
  },
  {
   "cell_type": "markdown",
   "metadata": {},
   "source": [
    "# Mutation"
   ]
  },
  {
   "cell_type": "code",
   "execution_count": null,
   "metadata": {},
   "outputs": [],
   "source": [
    "import tmkit as tmk\n",
    "\n",
    "tmk.mut.download_predmuthtp_db(\n",
    "    sv_fp= os.path.join(exp_data, 'mutation')\n",
    ")"
   ]
  },
  {
   "cell_type": "markdown",
   "metadata": {},
   "source": [
    "# PPI"
   ]
  },
  {
   "cell_type": "code",
   "execution_count": 4,
   "metadata": {},
   "outputs": [
    {
     "name": "stdout",
     "output_type": "stream",
     "text": [
      "===>The IntAct database of version current is being downloaded...\n",
      "===>The database of version current is successfully downloaded!\n",
      "===>The database of version current is being decompressed...\n",
      "===>The database of version current is successfully decompressed!\n"
     ]
    },
    {
     "data": {
      "text/plain": [
       "'Finished!'"
      ]
     },
     "execution_count": 4,
     "metadata": {},
     "output_type": "execute_result"
    }
   ],
   "source": [
    "import tmkit as tmk\n",
    "\n",
    "tmk.ppi.download_intact_db(\n",
    "    version='current',\n",
    "    sv_fp= os.path.join(exp_data, 'ppi')\n",
    ")"
   ]
  },
  {
   "cell_type": "markdown",
   "metadata": {},
   "source": [
    "# Residue contact"
   ]
  },
  {
   "cell_type": "code",
   "execution_count": null,
   "metadata": {},
   "outputs": [],
   "source": [
    "import tmkit as tmk\n",
    "\n",
    "df1 = tmk.rrc.read(\n",
    "    prot_name='1xqf',\n",
    "    seq_chain='A',\n",
    "    fasta_fp=os.path.join(dir_data, 'fasta/'),\n",
    "    pdb_fp=os.path.join(dir_data, 'pdb/'),\n",
    "    xml_fp=os.path.join(dir_data, 'xml/'),\n",
    "    dist_fp=os.path.join(dir_data, 'rrc/'),\n",
    "    tool_fp=os.path.join(dir_data, 'rrc/tool/'),\n",
    "    seq_sep_inferior=1,\n",
    "    seq_sep_superior=None,\n",
    "    tool='membrain2',\n",
    ")"
   ]
  }
 ],
 "metadata": {
  "kernelspec": {
   "display_name": ".venv",
   "language": "python",
   "name": "python3"
  },
  "language_info": {
   "codemirror_mode": {
    "name": "ipython",
    "version": 3
   },
   "file_extension": ".py",
   "mimetype": "text/x-python",
   "name": "python",
   "nbconvert_exporter": "python",
   "pygments_lexer": "ipython3",
   "version": "3.10.6"
  },
  "orig_nbformat": 4
 },
 "nbformat": 4,
 "nbformat_minor": 2
}
