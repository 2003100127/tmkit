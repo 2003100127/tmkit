{
 "cells": [
  {
   "cell_type": "code",
   "execution_count": 88,
   "metadata": {},
   "outputs": [],
   "source": [
    "import os\n",
    "import pandas as pd\n",
    "import tarfile\n",
    "import tmkit as tmk\n",
    "from typing import List, Tuple\n",
    "# from tmkit.topo import from_pdbtm, from_tmhmm, from_phobius\n",
    "# from tests import dir_data, tmp_data, exp_data\n",
    "from tests import tmp_data"
   ]
  },
  {
   "cell_type": "markdown",
   "metadata": {},
   "source": [
    "# Example dataset\n",
    "\n",
    "We begin by introducing and downloading the following example dataset to use TMKit. Please see https://tmkit-guide.herokuapp.com/doc/exdataset"
   ]
  },
  {
   "cell_type": "code",
   "execution_count": 89,
   "metadata": {},
   "outputs": [
    {
     "name": "stdout",
     "output_type": "stream",
     "text": [
      "===>Dowloading TMKit example dataset...\n"
     ]
    }
   ],
   "source": [
    "tmk.fetch.tmkit_data(\n",
    "    url='https://sandbox.zenodo.org/record/1219139/files/data.zip?download=1',\n",
    "    sv_fpn= os.path.join(tmp_data, 'data.zip')\n",
    ")"
   ]
  },
  {
   "cell_type": "code",
   "execution_count": null,
   "metadata": {},
   "outputs": [],
   "source": [
    "# unzip\n",
    "tmk.fetch.unzip(\n",
    "    in_fpn= os.path.join(tmp_data, 'data.zip'),\n",
    "    out_fp= tmp_data\n",
    ")"
   ]
  },
  {
   "cell_type": "markdown",
   "metadata": {},
   "source": [
    "# Sequence\n",
    "\n",
    "## Retrieve\n",
    "\n",
    "### RCSB PDB file"
   ]
  },
  {
   "cell_type": "code",
   "execution_count": null,
   "metadata": {},
   "outputs": [],
   "source": [
    "new_data_dir = os.path.join(tmp_data, 'new/')\n",
    "fdir = os.path.join(new_data_dir, 'rcsb/')\n",
    "os.makedirs(fdir, exist_ok=True)\n",
    "\n",
    "prot_series = pd.Series([\"6e3y\", \"1xqf\"])\n",
    "\n",
    "tmk.seq.retrieve_pdb_from_rcsb(\n",
    "    prot_series=prot_series,\n",
    "    sv_fp= fdir,\n",
    ")"
   ]
  },
  {
   "cell_type": "markdown",
   "metadata": {},
   "source": [
    "### PDBTM PDB file"
   ]
  },
  {
   "cell_type": "code",
   "execution_count": null,
   "metadata": {},
   "outputs": [],
   "source": [
    "fdir = os.path.join(new_data_dir, 'pdbtm/')\n",
    "os.makedirs(fdir, exist_ok=True)\n",
    "\n",
    "tmk.seq.retrieve_pdb_from_pdbtm(\n",
    "    prot_series=prot_series,\n",
    "    sv_fp = fdir,\n",
    ")"
   ]
  },
  {
   "cell_type": "markdown",
   "metadata": {},
   "source": [
    "### PDBTM XML file"
   ]
  },
  {
   "cell_type": "code",
   "execution_count": null,
   "metadata": {},
   "outputs": [],
   "source": [
    "fdir = os.path.join(new_data_dir, 'pdbtm/')\n",
    "os.makedirs(fdir, exist_ok=True)\n",
    "\n",
    "tmk.seq.retrieve_xml_from_pdbtm(\n",
    "    prot_series=prot_series,\n",
    "    sv_fp=fdir\n",
    ")"
   ]
  },
  {
   "cell_type": "markdown",
   "metadata": {},
   "source": [
    "### AlphaFold PDB file\n",
    "\n",
    "#### Download some predicted transmembrane protein structures"
   ]
  },
  {
   "cell_type": "code",
   "execution_count": null,
   "metadata": {},
   "outputs": [],
   "source": [
    "fdir = os.path.join(new_data_dir, 'alphafold/')\n",
    "os.makedirs(fdir, exist_ok=True)\n",
    "\n",
    "prot_series = pd.Series(['P63092', 'Q9B6E8', 'P07256', 'P63027'])\n",
    "\n",
    "tmk.seq.retrieve_pdb_alphafold(\n",
    "    prot_series=prot_series,\n",
    "    sv_fp=fdir,\n",
    ")"
   ]
  },
  {
   "cell_type": "markdown",
   "metadata": {},
   "source": [
    "#### Using Foldseek for structural alignment of the predicted transmembrane protein structures"
   ]
  },
  {
   "cell_type": "code",
   "execution_count": null,
   "metadata": {},
   "outputs": [],
   "source": [
    "protid = 'P63027'\n",
    "tmk.seq.retrieve_foldseek(\n",
    "    pdb_fp= fdir,\n",
    "    prot_name=protid, # https://alphafold.ebi.ac.uk/entry/P63027\n",
    "    sv_fp= fdir,\n",
    ")\n",
    "\n",
    "# untar the file to a new folder named \"P63027_foldseek_result\"\n",
    "fin = os.path.join(fdir, \"{}_foldseek_result.gz\".format(protid))\n",
    "with tarfile.open(fin, \"r:gz\") as tar:\n",
    "    tar.extractall(path=os.path.join(fdir, \"{}_foldseek_result\".format(protid)))\n",
    "    "
   ]
  },
  {
   "cell_type": "code",
   "execution_count": null,
   "metadata": {},
   "outputs": [],
   "source": [
    "# List foldseek result files\n",
    "!ls -l $fdir/P63027_foldseek_result"
   ]
  },
  {
   "cell_type": "markdown",
   "metadata": {},
   "source": [
    "## Read"
   ]
  },
  {
   "cell_type": "code",
   "execution_count": null,
   "metadata": {},
   "outputs": [],
   "source": [
    "# Sequence from a Fasta file\n",
    "\n",
    "fin = os.path.join(tmp_data, \"data/fasta/1xqfA.fasta\")\n",
    "\n",
    "sequence = tmk.seq.read_from_fasta(fasta_fpn=fin)\n",
    "\n",
    "# Get residue IDs from a FASTA file\n",
    "seq_fasta_ids = tmk.seq.fasid(fasta_fpn=fin)\n",
    "\n",
    "print(sequence)\n",
    "print(seq_fasta_ids)\n"
   ]
  },
  {
   "cell_type": "code",
   "execution_count": null,
   "metadata": {},
   "outputs": [],
   "source": [
    "# Sequence from a PDB file\n",
    "sequence = tmk.seq.read_from_pdb(\n",
    "    pdb_fp=os.path.join(tmp_data, \"data/pdb/\"),\n",
    "    prot_name='1xqf',\n",
    "    seq_chain='A',\n",
    "    file_chain='A',\n",
    ")\n",
    "\n",
    "print(sequence)"
   ]
  },
  {
   "cell_type": "markdown",
   "metadata": {},
   "source": [
    "# Protein topology\n",
    "\n",
    "## From PDBTM"
   ]
  },
  {
   "cell_type": "code",
   "execution_count": null,
   "metadata": {},
   "outputs": [],
   "source": [
    "topos = {\n",
    "    'Side1': 'side1',\n",
    "    'Side2': 'side2',\n",
    "    'Beta': 'strand',\n",
    "    'Alpha': 'tmh',\n",
    "    'Coil': 'coil',\n",
    "    'Membrane-inside': 'inside',\n",
    "    'Membrane-loop': 'loop',\n",
    "    'Interfacial ': 'interfacial',\n",
    "    'Unknown': 'Unknown',\n",
    "}\n",
    "\n",
    "\n",
    "for topo, i in topos.items():\n",
    "    print('Topology: {}'.format(topo))\n",
    "    try:\n",
    "        lower_ids, upper_ids = tmk.topo.from_pdbtm(\n",
    "            xml_fp=os.path.join(tmp_data, 'data/xml/'),\n",
    "            prot_name='1xqf',\n",
    "            seq_chain='A',\n",
    "            topo=i,\n",
    "        )\n",
    "        if lower_ids:\n",
    "            print('---lower bounds', lower_ids)\n",
    "            print('---upper bounds', upper_ids)\n",
    "    except:\n",
    "        continue\n",
    "    else:\n",
    "        print('It does not has this topology.\\n')"
   ]
  },
  {
   "cell_type": "markdown",
   "metadata": {},
   "source": [
    "## From Phobius"
   ]
  },
  {
   "cell_type": "code",
   "execution_count": null,
   "metadata": {},
   "outputs": [],
   "source": [
    "lower_ids, upper_ids = tmk.topo.from_phobius(\n",
    "    topo='tmh',\n",
    "    phobius_fpn=os.path.join(tmp_data, 'data/topo/1xqfA.jphobius'),\n",
    ")\n",
    "print('---lower bounds', lower_ids)\n",
    "print('---upper bounds', upper_ids)"
   ]
  },
  {
   "cell_type": "markdown",
   "metadata": {},
   "source": [
    "## Cytoplasmic or extracellular segments"
   ]
  },
  {
   "cell_type": "code",
   "execution_count": null,
   "metadata": {},
   "outputs": [],
   "source": [
    "pdbtm_seg, pred_seg = tmk.topo.cepdbtm(\n",
    "  pdb_fp = os.path.join(tmp_data, 'data/pdb/'),\n",
    "    prot_name='1xqf',\n",
    "    seq_chain='A',\n",
    "    file_chain='A',\n",
    "    topo_fp= os.path.join(tmp_data, 'data/topo/1xqfA.jphobius'),\n",
    "    xml_fp = os.path.join(tmp_data, 'data/xml/'),\n",
    "    fasta_fp = os.path.join(tmp_data, 'data/fasta/'),\n",
    ")\n",
    "print('---Cytoplasmic and extracellular segments that are structure-derived :\\n', pdbtm_seg)\n",
    "print('---Cytoplasmic and extracellular segments Predicted by the Phobius tool: \\n', pred_seg)"
   ]
  },
  {
   "cell_type": "markdown",
   "metadata": {},
   "source": [
    "# Feature\n",
    "\n",
    "## Helix surface identification"
   ]
  },
  {
   "cell_type": "code",
   "execution_count": null,
   "metadata": {},
   "outputs": [],
   "source": [
    "# fdir = os.path.join(dir_data, \"lips-\")\n",
    "\n",
    "# df = tmk.feature.read_helix_surf(\n",
    "#     fp=fdir,\n",
    "#     prot_name='1xqf',\n",
    "#     file_chain='A',\n",
    "#     id=1,\n",
    "# )\n",
    "\n",
    "\n",
    "# aa_surf_rank, _, _, _ = tmk.feature.read(\n",
    "#     fp=fdir,\n",
    "#     prot_name='1xqf',\n",
    "#     file_chain='A',\n",
    "# )\n",
    "\n",
    "# df = tmk.feature.read_helix_all_surf(\n",
    "#     fp=fdir,\n",
    "#     prot_name='1xqf',\n",
    "#     file_chain='A',\n",
    "# )\n",
    "\n",
    "# df"
   ]
  },
  {
   "cell_type": "code",
   "execution_count": null,
   "metadata": {},
   "outputs": [],
   "source": [
    "# very long time\n",
    "# tmk.feature.generate_helix_surfaces(\n",
    "#   msa_path = os.path.join(tmp_data, 'data/msa/'),\n",
    "#     prot_name='1xqf',\n",
    "#     file_chain='A',\n",
    "#     sv_fp = os.path.join(tmp_data, 'data/lips/'),\n",
    "# )"
   ]
  },
  {
   "cell_type": "code",
   "execution_count": null,
   "metadata": {},
   "outputs": [],
   "source": [
    "prots = [\n",
    "    ['1xqf', 'A'],\n",
    "    ['3pux', 'G'],\n",
    "    ['3rko', 'A'],\n",
    "]\n",
    "df_prot = pd.DataFrame(prots, columns=['prot', 'chain'])\n",
    "df_prot"
   ]
  },
  {
   "cell_type": "code",
   "execution_count": null,
   "metadata": {},
   "outputs": [],
   "source": [
    "# very long time\n",
    "# tmk.feature.bgenerate_helix_surfaces(\n",
    "#   msa_path = os.path.join(tmp_data, 'data/msa/'),\n",
    "#   sv_fp = os.path.join(tmp_data, 'data/lips/'),\n",
    "#     df_prot=df_prot,\n",
    "# )"
   ]
  },
  {
   "cell_type": "markdown",
   "metadata": {},
   "source": [
    "# CATH"
   ]
  },
  {
   "cell_type": "code",
   "execution_count": null,
   "metadata": {},
   "outputs": [],
   "source": [
    "res = tmk.cath.summary_by_id(\n",
    "    id='1cukA01'\n",
    ")\n",
    "\n",
    "\n",
    "res[\"domain\"] == \"http://www.cathdb.info/version/v4_2_0/api/rest/domain_summary/1cukA01\""
   ]
  },
  {
   "cell_type": "markdown",
   "metadata": {},
   "source": [
    "# MSA\n",
    "\n",
    "## HHblits"
   ]
  },
  {
   "cell_type": "code",
   "execution_count": null,
   "metadata": {},
   "outputs": [],
   "source": [
    "prots = [\n",
    "    ['6e3y', 'E'],\n",
    "    ['6rfq', 'S'],\n",
    "    ['6t0b', 'm'],\n",
    "]\n",
    "\n",
    "df = pd.DataFrame(prots, columns=['prot', 'chain'])\n",
    "df"
   ]
  },
  {
   "cell_type": "code",
   "execution_count": null,
   "metadata": {},
   "outputs": [],
   "source": [
    "fasta_fp = os.path.join(tmp_data, 'data/fasta/')\n",
    "hhblits_fp = os.path.join(tmp_data, 'hhblits/bin/')\n",
    "db_path = os.path.join(tmp_data, 'uniclust_2020.06/UniRef30_2020_06')\n",
    "sv_fp = os.path.join(tmp_data, 'data/a3m/')\n",
    "\n",
    "for id in df.index:\n",
    "    prot_name = df.loc[id, 'prot']\n",
    "    seq_chain = df.loc[id, 'chain']\n",
    "    tmk.msa.run_hhblits(\n",
    "        hhblits_fp=hhblits_fp,\n",
    "        fasta_fpn=fasta_fp + prot_name + seq_chain + '.fasta',\n",
    "        sv_fpn=sv_fp + prot_name + seq_chain + '.a3m',\n",
    "        db_path=db_path,\n",
    "\n",
    "        # additional parameters\n",
    "        cpu=2,\n",
    "        iteration=3,\n",
    "        maxfilter=100000,\n",
    "        realign_max=100000,\n",
    "        all='',\n",
    "        B=100000,\n",
    "        Z=100000,\n",
    "        e=0.001,\n",
    "\n",
    "        # if you won't do it on clusters, please give False to the parameter send2cloud\n",
    "        send2cloud=False,\n",
    "        cloud_cmd=\"\",\n",
    "\n",
    "        # send2cloud=True,\n",
    "        # cloud_cmd=\"qsub -q all.q -N 'jsun'\",\n",
    "    )"
   ]
  },
  {
   "cell_type": "markdown",
   "metadata": {},
   "source": [
    "## HHfilter"
   ]
  },
  {
   "cell_type": "code",
   "execution_count": null,
   "metadata": {},
   "outputs": [],
   "source": [
    "prots = [\n",
    "    ['6e3y', 'E'],\n",
    "    ['6rfq', 'S'],\n",
    "    ['6t0b', 'm'],\n",
    "]\n",
    "import pandas as pd\n",
    "df = pd.DataFrame(prots, columns=['prot', 'chain'])\n",
    "\n",
    "\n",
    "hhfilter_fp = './hhblits/bin/'\n",
    "a3m_path = 'data/a3m/'\n",
    "new_a3m_path = 'data/a3m/filter/'\n",
    "\n",
    "\n",
    "hhfilter_fp = os.path.join(tmp_data, 'hhblits/bin/')\n",
    "a3m_path = os.path.join(tmp_data, 'data/a3m/')\n",
    "new_a3m_path = os.path.join(tmp_data, 'data/a3m/filter/')\n",
    "\n",
    "for id in df.index:\n",
    "    prot_name = df.loc[id, 'prot']\n",
    "    seq_chain = df.loc[id, 'chain']\n",
    "    tmk.msa.run_hhfilter(\n",
    "        hhfilter_fp=hhfilter_fp,\n",
    "        id=90,\n",
    "        a3m_fpn=a3m_path + prot_name + seq_chain + '.a3m',\n",
    "        new_a3m_fpn=new_a3m_path + prot_name + seq_chain + '.a3m',\n",
    "\n",
    "        # if you won't do it on clusters, please give False to the parameter send2cloud\n",
    "        send2cloud=False,\n",
    "        cloud_cmd=\"\",\n",
    "\n",
    "        # send2cloud=True,\n",
    "        # cloud_cmd=\"qsub -q all.q -N 'jsun'\",\n",
    "    )"
   ]
  },
  {
   "cell_type": "markdown",
   "metadata": {},
   "source": [
    "# Collation"
   ]
  },
  {
   "cell_type": "code",
   "execution_count": null,
   "metadata": {},
   "outputs": [],
   "source": [
    "# PDBTM\n",
    "\n",
    "pdb_rcsb_fp = os.path.join(tmp_data, 'data/pdb/collate/rcsb/')\n",
    "pdb_pdbtm_fp = os.path.join(tmp_data, 'data/pdb/collate/pdbtm/')\n",
    "\n",
    "chains = tmk.collate.chain(\n",
    "    prot_name='6cxh',\n",
    "    pdb_fp=pdb_pdbtm_fp,\n",
    ")\n",
    "print(chains)"
   ]
  },
  {
   "cell_type": "markdown",
   "metadata": {},
   "source": [
    "# Edge\n",
    "\n",
    "## bipartite"
   ]
  },
  {
   "cell_type": "code",
   "execution_count": null,
   "metadata": {},
   "outputs": [],
   "source": [
    "from tmkit.sequence import Fasta as sfasta\n",
    "from tmkit.seqnetrr.combo.Length import length as pl\n",
    "from tmkit.seqnetrr.combo.Position import Position as pfasta\n",
    "from tmkit.seqnetrr.window.Pair import Pair\n",
    "from tmkit.seqnetrr.graph.Bipartite import Bipartite as bigraph\n",
    "\n",
    "# read a sequence\n",
    "sequence = sfasta.get(\n",
    "  fasta_fpn = os.path.join(tmp_data, 'data/fasta/1xqfA.fasta')\n",
    ")\n",
    "sequence\n",
    "\n",
    "\n",
    "# generate residue pairs according to sequence separation\n",
    "pos_list = pl(\n",
    "    seq_sep_superior=None,\n",
    "    seq_sep_inferior=0\n",
    ").to_pair(\n",
    "    length=len(sequence)\n",
    ")\n",
    "pos_list[:10]\n",
    "\n",
    "\n",
    "\n",
    "position = pfasta(\n",
    "    sequence=sequence,\n",
    ").pair(\n",
    "    pos_list=pos_list,\n",
    ")\n",
    "position[:10]\n",
    "\n",
    "\n",
    "\n",
    "window_m_ids = Pair(\n",
    "    sequence=sequence,\n",
    "    position=position,\n",
    "    window_size=5,\n",
    ").mid()\n",
    "window_m_ids[:10]\n",
    "\n",
    "\n",
    "\n",
    "res = bigraph(\n",
    "    sequence=sequence,\n",
    "    window_size=5,\n",
    "    window_m_ids=window_m_ids,\n",
    "    kind='patch',\n",
    "    patch_size=2,\n",
    "    input_kind='simulate',\n",
    ").assign(\n",
    "    list_2d=position,\n",
    "    simu_seq_len=len(sequence),\n",
    "    mode='hash',\n",
    ")\n",
    "# print(res)\n",
    "\n",
    "\n",
    "\n",
    "res = bigraph(\n",
    "    sequence=sequence,\n",
    "    window_size=5,\n",
    "    window_m_ids=window_m_ids,\n",
    "    kind='patch',\n",
    "    patch_size=2,\n",
    "    input_kind='simulate',\n",
    ").assign(\n",
    "    list_2d=position,\n",
    "    simu_seq_len=len(sequence),\n",
    "    mode='hash',\n",
    ")\n",
    "# res"
   ]
  },
  {
   "cell_type": "markdown",
   "metadata": {},
   "source": [
    "## Unigraph - Pipeline"
   ]
  },
  {
   "cell_type": "code",
   "execution_count": null,
   "metadata": {},
   "outputs": [],
   "source": [
    "from tmkit.sequence import Fasta as sfasta\n",
    "\n",
    "# read a sequence\n",
    "sequence = sfasta.get(\n",
    "  fasta_fpn = os.path.join(tmp_data, 'data/fasta/1xqfA.fasta')\n",
    ")\n",
    "print(sequence)"
   ]
  },
  {
   "cell_type": "code",
   "execution_count": null,
   "metadata": {},
   "outputs": [],
   "source": [
    "from tmkit.seqnetrr.combo.Length import length as pl\n",
    "\n",
    "# generate residue pairs according to sequence separation\n",
    "pos_list = pl(\n",
    "    seq_sep_superior=None,\n",
    "    seq_sep_inferior=0\n",
    ").to_pair(\n",
    "    length=len(sequence)\n",
    ")\n",
    "pos_list[:10]"
   ]
  },
  {
   "cell_type": "code",
   "execution_count": null,
   "metadata": {},
   "outputs": [],
   "source": [
    "from tmkit.seqnetrr.combo.Position import Position as pfasta\n",
    "\n",
    "position = pfasta(\n",
    "    sequence=sequence,\n",
    ").pair(\n",
    "    pos_list=pos_list,\n",
    ")\n",
    "print(position[:10])"
   ]
  },
  {
   "cell_type": "code",
   "execution_count": null,
   "metadata": {},
   "outputs": [],
   "source": [
    "from tmkit.seqnetrr.window.Pair import Pair\n",
    "\n",
    "window_m_ids = Pair(\n",
    "    sequence=sequence,\n",
    "    position=position,\n",
    "    window_size=5,\n",
    ").mid()\n",
    "print(window_m_ids[:10])"
   ]
  },
  {
   "cell_type": "code",
   "execution_count": null,
   "metadata": {},
   "outputs": [],
   "source": [
    "from tmkit.seqnetrr.graph.Unipartite import Unipartite as unigraph\n",
    "\n",
    "res = unigraph(\n",
    "    sequence=sequence,\n",
    "    window_size=5,\n",
    "    window_m_ids=window_m_ids,\n",
    "    input_kind='freecontact',\n",
    ").assign(\n",
    "    list_2d=position,\n",
    "    fpn= os.path.join(tmp_data, 'data/rrc/tool/1xqfA.evfold'),\n",
    "    mode='hash',\n",
    ")"
   ]
  },
  {
   "cell_type": "code",
   "execution_count": null,
   "metadata": {},
   "outputs": [],
   "source": [
    "from tmkit.seqnetrr.graph.Unipartite import Unipartite as unigraph\n",
    "\n",
    "res = unigraph(\n",
    "    sequence=sequence,\n",
    "    window_size=5,\n",
    "    window_m_ids=window_m_ids,\n",
    "    input_kind='simulate',\n",
    ").assign(\n",
    "    list_2d=position,\n",
    "    simu_seq_len=len(sequence),\n",
    "    mode='hash',\n",
    ")"
   ]
  },
  {
   "cell_type": "markdown",
   "metadata": {},
   "source": [
    "## Unigraph - Pipeline2"
   ]
  },
  {
   "cell_type": "code",
   "execution_count": null,
   "metadata": {},
   "outputs": [],
   "source": [
    "from tmkit.sequence import Fasta as sfasta\n",
    "# read a sequence\n",
    "sequence = sfasta.get(\n",
    "  fasta_fpn = os.path.join(tmp_data, 'data/fasta/1xqfA.fasta')\n",
    ")\n",
    "print(sequence)"
   ]
  },
  {
   "cell_type": "code",
   "execution_count": null,
   "metadata": {},
   "outputs": [],
   "source": [
    "from tmkit.seqnetrr.combo.Length import length as plength\n",
    "\n",
    "pos_list = plength(\n",
    "    seq_sep_inferior=0,\n",
    "    seq_sep_superior=None,\n",
    ").tosgl(\n",
    "    length=len(sequence),\n",
    ")\n",
    "print(pos_list[:10])"
   ]
  },
  {
   "cell_type": "code",
   "execution_count": null,
   "metadata": {},
   "outputs": [],
   "source": [
    "from tmkit.seqnetrr.combo.Position import Position as pfasta\n",
    "\n",
    "position = pfasta(\n",
    "    sequence=sequence,\n",
    ").single(\n",
    "    pos_list=pos_list,\n",
    ")\n",
    "print(position[:10])"
   ]
  },
  {
   "cell_type": "code",
   "execution_count": null,
   "metadata": {},
   "outputs": [],
   "source": [
    "from tmkit.seqnetrr.window.Single import Single\n",
    "\n",
    "window_m_ids = Single(\n",
    "    sequence=sequence,\n",
    "    position=position,\n",
    "    window_size=3,\n",
    ").mid()\n",
    "print(window_m_ids[:10])"
   ]
  },
  {
   "cell_type": "code",
   "execution_count": null,
   "metadata": {},
   "outputs": [],
   "source": [
    "from tmkit.seqnetrr.graph.Cumulative import Cumulative\n",
    "\n",
    "res = Cumulative(\n",
    "    sequence=sequence,\n",
    "    window_size=5,\n",
    "    window_m_ids=window_m_ids,\n",
    "    input_kind='freecontact',\n",
    ").assign(\n",
    "    list_2d=position,\n",
    "    L=int(len(sequence)/5),\n",
    "    fpn = os.path.join(tmp_data, 'data/rrc/tool/1xqfA.evfold')\n",
    ")"
   ]
  },
  {
   "cell_type": "code",
   "execution_count": null,
   "metadata": {},
   "outputs": [],
   "source": [
    "from tmkit.seqnetrr.graph.Cumulative import Cumulative\n",
    "\n",
    "res = Cumulative(\n",
    "    sequence=sequence,\n",
    "    window_size=5,\n",
    "    window_m_ids=window_m_ids,\n",
    "    input_kind='simulate',\n",
    ").assign(\n",
    "    list_2d=position,\n",
    "    L=int(len(sequence)/5),\n",
    "    simu_seq_len=len(sequence),\n",
    ")\n",
    "print(res[:10])"
   ]
  },
  {
   "cell_type": "markdown",
   "metadata": {},
   "source": [
    "# Mapping"
   ]
  },
  {
   "cell_type": "code",
   "execution_count": null,
   "metadata": {},
   "outputs": [],
   "source": [
    "\n",
    "res = tmk.mapping.pdb2uniprot(\n",
    "    id='101m.A',\n",
    "    ref_fpn= os.path.join(tmp_data, 'data/map/pdb_chain_uniprot.csv'),\n",
    ")\n",
    "print(res)"
   ]
  },
  {
   "cell_type": "markdown",
   "metadata": {},
   "source": [
    "# Mutation"
   ]
  },
  {
   "cell_type": "code",
   "execution_count": null,
   "metadata": {},
   "outputs": [],
   "source": [
    "# tmk.mut.download_predmuthtp_db(\n",
    "#     sv_fp= os.path.join(new_data_dir, 'ppi/mutation')\n",
    "# )"
   ]
  },
  {
   "cell_type": "markdown",
   "metadata": {},
   "source": [
    "# PPI"
   ]
  },
  {
   "cell_type": "code",
   "execution_count": null,
   "metadata": {},
   "outputs": [],
   "source": [
    "# tmk.ppi.download_intact_db(\n",
    "#     version='current',\n",
    "#     sv_fp= os.path.join(new_data_dir, 'ppi')\n",
    "# )"
   ]
  },
  {
   "cell_type": "markdown",
   "metadata": {},
   "source": [
    "# Residue contact"
   ]
  },
  {
   "cell_type": "code",
   "execution_count": null,
   "metadata": {},
   "outputs": [],
   "source": [
    "import tmkit as tmk\n",
    "\n",
    "df1 = tmk.rrc.read(\n",
    "    prot_name='1xqf',\n",
    "    seq_chain='A',\n",
    "    fasta_fp = os.path.join(tmp_data, 'data/fasta/'),\n",
    "    pdb_fp = os.path.join(tmp_data, 'data/pdb/'),\n",
    "    xml_fp = os.path.join(tmp_data, 'data/xml/'),\n",
    "    dist_fp = os.path.join(tmp_data, 'data/rrc/'),\n",
    "    tool_fp = os.path.join(tmp_data, 'data/rrc/tool/'),\n",
    "    seq_sep_inferior=1,\n",
    "    seq_sep_superior=None,\n",
    "    tool='membrain2',\n",
    ")\n",
    "df1"
   ]
  },
  {
   "cell_type": "code",
   "execution_count": null,
   "metadata": {},
   "outputs": [],
   "source": []
  }
 ],
 "metadata": {
  "kernelspec": {
   "display_name": ".venv",
   "language": "python",
   "name": "python3"
  },
  "language_info": {
   "codemirror_mode": {
    "name": "ipython",
    "version": 3
   },
   "file_extension": ".py",
   "mimetype": "text/x-python",
   "name": "python",
   "nbconvert_exporter": "python",
   "pygments_lexer": "ipython3",
   "version": "3.10.6"
  },
  "orig_nbformat": 4
 },
 "nbformat": 4,
 "nbformat_minor": 2
}
